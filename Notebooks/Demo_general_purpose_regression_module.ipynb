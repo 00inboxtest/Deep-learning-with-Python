{
 "cells": [
  {
   "cell_type": "markdown",
   "metadata": {},
   "source": [
    "# Testing the general-purpose `NN_trainer` module for regression task\n",
    "### Dr. Tirthajyoti Sarkar, Fremont, CA 94536\n",
    "\n",
    "We implemented a [general-purpose trainer module](https://github.com/tirthajyoti/Deep-learning-with-Python/blob/master/utils/NN_trainer.py) for regression task with tabular datasets. The idea is that you can simply read a dataset (e.g. a CSV file), choose the input and target variables, build a densely-connected neural net, train, predict, and save the model for deployment.\n",
    "\n",
    "- create a trainer object\n",
    "- read a dataset\n",
    "- designate input and output variable(s)\n",
    "- prepare the data (scale, test/train split)\n",
    "- build a model (choosing number of layers, number of neurons, activation function, etc.)\n",
    "- train (choosing number of epochs, learning rate, batch size, etc.)\n",
    "- plot training error over epochs, benchmark against test set predictions\n",
    "- save the model for deploying downstream\n",
    "\n",
    "The module exposes simple, intuitive methods which let you do all these tasks one after another. \n",
    "\n",
    "Often deep learning models for regression tasks are used further downstream in some other computing or data science flow. Consequently, the module is able to give you back a prediction function (trained) which can be used for any further prediction, analytics, or optimization task.\n",
    "\n",
    "This notebook tests the general-purpose trainer module and demonstrates various methods available within the module, with a synthetically generated dataset. "
   ]
  },
  {
   "cell_type": "code",
   "execution_count": 1,
   "metadata": {},
   "outputs": [],
   "source": [
    "import numpy as np\n",
    "import pandas as pd\n",
    "from sklearn.datasets import make_regression"
   ]
  },
  {
   "cell_type": "markdown",
   "metadata": {},
   "source": [
    "### Make some synthetic data using the `make_regression()` function from Scikit-learn"
   ]
  },
  {
   "cell_type": "code",
   "execution_count": 2,
   "metadata": {},
   "outputs": [],
   "source": [
    "data1 = make_regression(n_samples=200, n_features=4, n_informative=2, n_targets=1, \n",
    "                        bias=0.0, effective_rank=None,tail_strength=0.5, \n",
    "                        noise=2.0, shuffle=True, coef=False, random_state=None)\n",
    "df1 = pd.DataFrame(data1[0],columns=['x'+str(i) for i in range(1,5)])\n",
    "df1['y'] = data1[1]"
   ]
  },
  {
   "cell_type": "code",
   "execution_count": 3,
   "metadata": {},
   "outputs": [
    {
     "data": {
      "text/html": [
       "<div>\n",
       "<style scoped>\n",
       "    .dataframe tbody tr th:only-of-type {\n",
       "        vertical-align: middle;\n",
       "    }\n",
       "\n",
       "    .dataframe tbody tr th {\n",
       "        vertical-align: top;\n",
       "    }\n",
       "\n",
       "    .dataframe thead th {\n",
       "        text-align: right;\n",
       "    }\n",
       "</style>\n",
       "<table border=\"1\" class=\"dataframe\">\n",
       "  <thead>\n",
       "    <tr style=\"text-align: right;\">\n",
       "      <th></th>\n",
       "      <th>x1</th>\n",
       "      <th>x2</th>\n",
       "      <th>x3</th>\n",
       "      <th>x4</th>\n",
       "      <th>y</th>\n",
       "    </tr>\n",
       "  </thead>\n",
       "  <tbody>\n",
       "    <tr>\n",
       "      <td>0</td>\n",
       "      <td>-2.106723</td>\n",
       "      <td>0.209264</td>\n",
       "      <td>-0.796563</td>\n",
       "      <td>-1.089854</td>\n",
       "      <td>-11.619181</td>\n",
       "    </tr>\n",
       "    <tr>\n",
       "      <td>1</td>\n",
       "      <td>1.087843</td>\n",
       "      <td>-0.895292</td>\n",
       "      <td>-0.221989</td>\n",
       "      <td>0.267321</td>\n",
       "      <td>-57.546789</td>\n",
       "    </tr>\n",
       "    <tr>\n",
       "      <td>2</td>\n",
       "      <td>0.925311</td>\n",
       "      <td>-0.895518</td>\n",
       "      <td>0.591737</td>\n",
       "      <td>0.049839</td>\n",
       "      <td>-63.496270</td>\n",
       "    </tr>\n",
       "    <tr>\n",
       "      <td>3</td>\n",
       "      <td>0.879450</td>\n",
       "      <td>0.468024</td>\n",
       "      <td>-0.498075</td>\n",
       "      <td>0.511755</td>\n",
       "      <td>46.856306</td>\n",
       "    </tr>\n",
       "    <tr>\n",
       "      <td>4</td>\n",
       "      <td>0.497282</td>\n",
       "      <td>0.176066</td>\n",
       "      <td>0.159689</td>\n",
       "      <td>0.967688</td>\n",
       "      <td>43.135900</td>\n",
       "    </tr>\n",
       "  </tbody>\n",
       "</table>\n",
       "</div>"
      ],
      "text/plain": [
       "         x1        x2        x3        x4          y\n",
       "0 -2.106723  0.209264 -0.796563 -1.089854 -11.619181\n",
       "1  1.087843 -0.895292 -0.221989  0.267321 -57.546789\n",
       "2  0.925311 -0.895518  0.591737  0.049839 -63.496270\n",
       "3  0.879450  0.468024 -0.498075  0.511755  46.856306\n",
       "4  0.497282  0.176066  0.159689  0.967688  43.135900"
      ]
     },
     "execution_count": 3,
     "metadata": {},
     "output_type": "execute_result"
    }
   ],
   "source": [
    "df1.head()"
   ]
  },
  {
   "cell_type": "markdown",
   "metadata": {},
   "source": [
    "### Create a useless variable\n",
    "\n",
    "We insert a column of a useless variable into the dataset. This is to show a particular feature of the module which detects such _un-interesting_ variable automatically and eliminates them."
   ]
  },
  {
   "cell_type": "code",
   "execution_count": 4,
   "metadata": {},
   "outputs": [],
   "source": [
    "df1['x5'] = -1"
   ]
  },
  {
   "cell_type": "code",
   "execution_count": 5,
   "metadata": {},
   "outputs": [
    {
     "data": {
      "text/html": [
       "<div>\n",
       "<style scoped>\n",
       "    .dataframe tbody tr th:only-of-type {\n",
       "        vertical-align: middle;\n",
       "    }\n",
       "\n",
       "    .dataframe tbody tr th {\n",
       "        vertical-align: top;\n",
       "    }\n",
       "\n",
       "    .dataframe thead th {\n",
       "        text-align: right;\n",
       "    }\n",
       "</style>\n",
       "<table border=\"1\" class=\"dataframe\">\n",
       "  <thead>\n",
       "    <tr style=\"text-align: right;\">\n",
       "      <th></th>\n",
       "      <th>x1</th>\n",
       "      <th>x2</th>\n",
       "      <th>x3</th>\n",
       "      <th>x4</th>\n",
       "      <th>y</th>\n",
       "      <th>x5</th>\n",
       "    </tr>\n",
       "  </thead>\n",
       "  <tbody>\n",
       "    <tr>\n",
       "      <td>0</td>\n",
       "      <td>-2.106723</td>\n",
       "      <td>0.209264</td>\n",
       "      <td>-0.796563</td>\n",
       "      <td>-1.089854</td>\n",
       "      <td>-11.619181</td>\n",
       "      <td>-1</td>\n",
       "    </tr>\n",
       "    <tr>\n",
       "      <td>1</td>\n",
       "      <td>1.087843</td>\n",
       "      <td>-0.895292</td>\n",
       "      <td>-0.221989</td>\n",
       "      <td>0.267321</td>\n",
       "      <td>-57.546789</td>\n",
       "      <td>-1</td>\n",
       "    </tr>\n",
       "    <tr>\n",
       "      <td>2</td>\n",
       "      <td>0.925311</td>\n",
       "      <td>-0.895518</td>\n",
       "      <td>0.591737</td>\n",
       "      <td>0.049839</td>\n",
       "      <td>-63.496270</td>\n",
       "      <td>-1</td>\n",
       "    </tr>\n",
       "    <tr>\n",
       "      <td>3</td>\n",
       "      <td>0.879450</td>\n",
       "      <td>0.468024</td>\n",
       "      <td>-0.498075</td>\n",
       "      <td>0.511755</td>\n",
       "      <td>46.856306</td>\n",
       "      <td>-1</td>\n",
       "    </tr>\n",
       "    <tr>\n",
       "      <td>4</td>\n",
       "      <td>0.497282</td>\n",
       "      <td>0.176066</td>\n",
       "      <td>0.159689</td>\n",
       "      <td>0.967688</td>\n",
       "      <td>43.135900</td>\n",
       "      <td>-1</td>\n",
       "    </tr>\n",
       "  </tbody>\n",
       "</table>\n",
       "</div>"
      ],
      "text/plain": [
       "         x1        x2        x3        x4          y  x5\n",
       "0 -2.106723  0.209264 -0.796563 -1.089854 -11.619181  -1\n",
       "1  1.087843 -0.895292 -0.221989  0.267321 -57.546789  -1\n",
       "2  0.925311 -0.895518  0.591737  0.049839 -63.496270  -1\n",
       "3  0.879450  0.468024 -0.498075  0.511755  46.856306  -1\n",
       "4  0.497282  0.176066  0.159689  0.967688  43.135900  -1"
      ]
     },
     "execution_count": 5,
     "metadata": {},
     "output_type": "execute_result"
    }
   ],
   "source": [
    "df1.head()"
   ]
  },
  {
   "cell_type": "markdown",
   "metadata": {},
   "source": [
    "### Import the `Trainer` class from the `NN_trainer` module"
   ]
  },
  {
   "cell_type": "code",
   "execution_count": 6,
   "metadata": {},
   "outputs": [],
   "source": [
    "from NN_trainer import Trainer"
   ]
  },
  {
   "cell_type": "code",
   "execution_count": 7,
   "metadata": {},
   "outputs": [],
   "source": [
    "t = Trainer()"
   ]
  },
  {
   "cell_type": "markdown",
   "metadata": {},
   "source": [
    "### What is this object?"
   ]
  },
  {
   "cell_type": "code",
   "execution_count": 8,
   "metadata": {},
   "outputs": [
    {
     "name": "stdout",
     "output_type": "stream",
     "text": [
      "Hello, I am a neural net trainer!\n"
     ]
    }
   ],
   "source": [
    "print(t)"
   ]
  },
  {
   "cell_type": "markdown",
   "metadata": {},
   "source": [
    "### If we want to train something now, an error message appears!"
   ]
  },
  {
   "cell_type": "code",
   "execution_count": 9,
   "metadata": {},
   "outputs": [
    {
     "name": "stdout",
     "output_type": "stream",
     "text": [
      "Model has not been built yet. Cannot train!\n"
     ]
    }
   ],
   "source": [
    "t.train_model()"
   ]
  },
  {
   "cell_type": "markdown",
   "metadata": {},
   "source": [
    "### If we want to build a model right now, an error message appears!"
   ]
  },
  {
   "cell_type": "code",
   "execution_count": 10,
   "metadata": {},
   "outputs": [
    {
     "name": "stdout",
     "output_type": "stream",
     "text": [
      "Data preparation not done yet. Should not build a model!\n"
     ]
    }
   ],
   "source": [
    "t.build_model()"
   ]
  },
  {
   "cell_type": "markdown",
   "metadata": {},
   "source": [
    "### If we want to prepare data (for modeling), an error message appears!"
   ]
  },
  {
   "cell_type": "code",
   "execution_count": 11,
   "metadata": {},
   "outputs": [
    {
     "name": "stdout",
     "output_type": "stream",
     "text": [
      "No data has been read yet. Cannot do processing!\n"
     ]
    }
   ],
   "source": [
    "t.prepare_data()"
   ]
  },
  {
   "cell_type": "markdown",
   "metadata": {},
   "source": [
    "Various types of error-checking code has been built into the module to catch and prevent a task to be performed at a wrong time (e.g. trying to build a model without reading in a dataset)"
   ]
  },
  {
   "cell_type": "markdown",
   "metadata": {},
   "source": [
    "### Now we copy the synthetic dataset to the trainer object dataset\n",
    "\n",
    "The `Trainer` object has an internal Pandas DataFrame called `df`. Here, for demo purpose, we are just using an internally generated DataFrame and setting it to this `df`. But this is not usually how you will read in a dataset.\n",
    "\n",
    "Note that the module provides a `read_csv()` method for reading in a CSV file as a Pandas DataFrame. You will, in most situations, use that method to read in an external dataset (a CSV file) for modeling purpose.\n",
    "\n",
    "At the initialization, the `df` is set to `None`."
   ]
  },
  {
   "cell_type": "code",
   "execution_count": 12,
   "metadata": {},
   "outputs": [
    {
     "name": "stdout",
     "output_type": "stream",
     "text": [
      "Internal dataset is None\n"
     ]
    }
   ],
   "source": [
    "if t.df is None:\n",
    "    print(\"Internal dataset is None\")"
   ]
  },
  {
   "cell_type": "code",
   "execution_count": 13,
   "metadata": {},
   "outputs": [],
   "source": [
    "t.df = df1"
   ]
  },
  {
   "cell_type": "markdown",
   "metadata": {},
   "source": [
    "Now, the internal dataset is a regular Pandas DataFrame"
   ]
  },
  {
   "cell_type": "code",
   "execution_count": 14,
   "metadata": {},
   "outputs": [
    {
     "data": {
      "text/html": [
       "<div>\n",
       "<style scoped>\n",
       "    .dataframe tbody tr th:only-of-type {\n",
       "        vertical-align: middle;\n",
       "    }\n",
       "\n",
       "    .dataframe tbody tr th {\n",
       "        vertical-align: top;\n",
       "    }\n",
       "\n",
       "    .dataframe thead th {\n",
       "        text-align: right;\n",
       "    }\n",
       "</style>\n",
       "<table border=\"1\" class=\"dataframe\">\n",
       "  <thead>\n",
       "    <tr style=\"text-align: right;\">\n",
       "      <th></th>\n",
       "      <th>x1</th>\n",
       "      <th>x2</th>\n",
       "      <th>x3</th>\n",
       "      <th>x4</th>\n",
       "      <th>y</th>\n",
       "      <th>x5</th>\n",
       "    </tr>\n",
       "  </thead>\n",
       "  <tbody>\n",
       "    <tr>\n",
       "      <td>count</td>\n",
       "      <td>200.000000</td>\n",
       "      <td>200.000000</td>\n",
       "      <td>200.000000</td>\n",
       "      <td>200.000000</td>\n",
       "      <td>200.000000</td>\n",
       "      <td>200.0</td>\n",
       "    </tr>\n",
       "    <tr>\n",
       "      <td>mean</td>\n",
       "      <td>-0.025659</td>\n",
       "      <td>0.097162</td>\n",
       "      <td>-0.040191</td>\n",
       "      <td>0.019283</td>\n",
       "      <td>7.578908</td>\n",
       "      <td>-1.0</td>\n",
       "    </tr>\n",
       "    <tr>\n",
       "      <td>std</td>\n",
       "      <td>1.062170</td>\n",
       "      <td>0.994754</td>\n",
       "      <td>0.944377</td>\n",
       "      <td>1.024934</td>\n",
       "      <td>82.219899</td>\n",
       "      <td>0.0</td>\n",
       "    </tr>\n",
       "    <tr>\n",
       "      <td>min</td>\n",
       "      <td>-3.448801</td>\n",
       "      <td>-3.224607</td>\n",
       "      <td>-2.801586</td>\n",
       "      <td>-2.729272</td>\n",
       "      <td>-283.076901</td>\n",
       "      <td>-1.0</td>\n",
       "    </tr>\n",
       "    <tr>\n",
       "      <td>25%</td>\n",
       "      <td>-0.766162</td>\n",
       "      <td>-0.495337</td>\n",
       "      <td>-0.637783</td>\n",
       "      <td>-0.682420</td>\n",
       "      <td>-43.339649</td>\n",
       "      <td>-1.0</td>\n",
       "    </tr>\n",
       "    <tr>\n",
       "      <td>50%</td>\n",
       "      <td>0.041453</td>\n",
       "      <td>0.150709</td>\n",
       "      <td>-0.093528</td>\n",
       "      <td>0.002418</td>\n",
       "      <td>13.879653</td>\n",
       "      <td>-1.0</td>\n",
       "    </tr>\n",
       "    <tr>\n",
       "      <td>75%</td>\n",
       "      <td>0.708254</td>\n",
       "      <td>0.803136</td>\n",
       "      <td>0.563371</td>\n",
       "      <td>0.818226</td>\n",
       "      <td>58.340742</td>\n",
       "      <td>-1.0</td>\n",
       "    </tr>\n",
       "    <tr>\n",
       "      <td>max</td>\n",
       "      <td>2.357087</td>\n",
       "      <td>2.704995</td>\n",
       "      <td>2.746394</td>\n",
       "      <td>2.767297</td>\n",
       "      <td>201.867156</td>\n",
       "      <td>-1.0</td>\n",
       "    </tr>\n",
       "  </tbody>\n",
       "</table>\n",
       "</div>"
      ],
      "text/plain": [
       "               x1          x2          x3          x4           y     x5\n",
       "count  200.000000  200.000000  200.000000  200.000000  200.000000  200.0\n",
       "mean    -0.025659    0.097162   -0.040191    0.019283    7.578908   -1.0\n",
       "std      1.062170    0.994754    0.944377    1.024934   82.219899    0.0\n",
       "min     -3.448801   -3.224607   -2.801586   -2.729272 -283.076901   -1.0\n",
       "25%     -0.766162   -0.495337   -0.637783   -0.682420  -43.339649   -1.0\n",
       "50%      0.041453    0.150709   -0.093528    0.002418   13.879653   -1.0\n",
       "75%      0.708254    0.803136    0.563371    0.818226   58.340742   -1.0\n",
       "max      2.357087    2.704995    2.746394    2.767297  201.867156   -1.0"
      ]
     },
     "execution_count": 14,
     "metadata": {},
     "output_type": "execute_result"
    }
   ],
   "source": [
    "t.df.describe()"
   ]
  },
  {
   "cell_type": "markdown",
   "metadata": {},
   "source": [
    "### We can even create simple scatter plots"
   ]
  },
  {
   "cell_type": "code",
   "execution_count": 15,
   "metadata": {},
   "outputs": [
    {
     "data": {
      "image/png": "[encoded data removed]",
      "text/plain": [
       "<Figure size 504x360 with 1 Axes>"
      ]
     },
     "metadata": {
      "needs_background": "light"
     },
     "output_type": "display_data"
    }
   ],
   "source": [
    "t.plot_xy('x1','y')"
   ]
  },
  {
   "cell_type": "code",
   "execution_count": 16,
   "metadata": {},
   "outputs": [
    {
     "data": {
      "image/png": "[encoded data removed]",
      "text/plain": [
       "<Figure size 504x360 with 1 Axes>"
      ]
     },
     "metadata": {
      "needs_background": "light"
     },
     "output_type": "display_data"
    }
   ],
   "source": [
    "t.plot_xy('x1','x2')"
   ]
  },
  {
   "cell_type": "markdown",
   "metadata": {},
   "source": [
    "### Now drop the _un-interesting_ variable"
   ]
  },
  {
   "cell_type": "code",
   "execution_count": 17,
   "metadata": {},
   "outputs": [
    {
     "name": "stdout",
     "output_type": "stream",
     "text": [
      "Dropped the following column: x5\n"
     ]
    }
   ],
   "source": [
    "t.drop_static_cols()"
   ]
  },
  {
   "cell_type": "code",
   "execution_count": 19,
   "metadata": {},
   "outputs": [
    {
     "name": "stdout",
     "output_type": "stream",
     "text": [
      "Here are the features: x1, x2, x3, x4, and y."
     ]
    }
   ],
   "source": [
    "t.show_cols()"
   ]
  },
  {
   "cell_type": "markdown",
   "metadata": {},
   "source": [
    "### Trying to set the output variable - spelled it wrong (`v` instead of `y`)"
   ]
  },
  {
   "cell_type": "code",
   "execution_count": 20,
   "metadata": {},
   "outputs": [
    {
     "name": "stdout",
     "output_type": "stream",
     "text": [
      "Following feature is set as output (to be modeled): v\n",
      "Warning! The designated output variable v is not in the list of columns of the dataset!\n"
     ]
    }
   ],
   "source": [
    "t.set_single_output('v')"
   ]
  },
  {
   "cell_type": "markdown",
   "metadata": {},
   "source": [
    "### Setting the correct output variable `y`"
   ]
  },
  {
   "cell_type": "code",
   "execution_count": 21,
   "metadata": {},
   "outputs": [
    {
     "name": "stdout",
     "output_type": "stream",
     "text": [
      "Following feature is set as output (to be modeled): y\n"
     ]
    }
   ],
   "source": [
    "t.set_single_output('y')"
   ]
  },
  {
   "cell_type": "markdown",
   "metadata": {},
   "source": [
    "### Setting the input variables"
   ]
  },
  {
   "cell_type": "code",
   "execution_count": 22,
   "metadata": {},
   "outputs": [
    {
     "name": "stdout",
     "output_type": "stream",
     "text": [
      "Following features are set as input: x1, x2, x3, and x4."
     ]
    }
   ],
   "source": [
    "t.set_inputs(['x1','x2','x3','x4'])"
   ]
  },
  {
   "cell_type": "markdown",
   "metadata": {},
   "source": [
    "### Preparing the dataset\n",
    "\n",
    "This is a somewhat automated function. With a single line of code, user can instruct the software to intelligently scale all the input and output variables as per the range of their values, create test/train splits for DNN modeling, and prepare the dataset to be fed into a DNN."
   ]
  },
  {
   "cell_type": "code",
   "execution_count": 23,
   "metadata": {},
   "outputs": [],
   "source": [
    "t.prepare_data()"
   ]
  },
  {
   "cell_type": "markdown",
   "metadata": {},
   "source": [
    "### Build the model\n",
    "This lets the user build a DNN model of her choice with various configurable parameters (e.g. number of hidden layers, number of neurons in each layer, activation function, etc.)"
   ]
  },
  {
   "cell_type": "code",
   "execution_count": 26,
   "metadata": {},
   "outputs": [
    {
     "data": {
      "text/plain": [
       "<keras.engine.sequential.Sequential at 0x2b218ce3e80>"
      ]
     },
     "execution_count": 26,
     "metadata": {},
     "output_type": "execute_result"
    }
   ],
   "source": [
    "t.build_model(n_hidden_layers=2,\n",
    "              layer_architecture=[20, 20])"
   ]
  },
  {
   "cell_type": "markdown",
   "metadata": {},
   "source": [
    "### Train (fit) the model\n",
    "\n",
    "This lets the user train the model with configurable parameters (number of epochs, learning rate, batch size, etc.)"
   ]
  },
  {
   "cell_type": "code",
   "execution_count": 27,
   "metadata": {},
   "outputs": [
    {
     "name": "stdout",
     "output_type": "stream",
     "text": [
      "Epoch 1/30\n",
      "140/140 [==============================] - 1s 4ms/step - loss: 0.0373 - mean_squared_error: 0.0373\n",
      "Epoch 2/30\n",
      "140/140 [==============================] - 0s 756us/step - loss: 0.0205 - mean_squared_error: 0.0205\n",
      "Epoch 3/30\n",
      "140/140 [==============================] - 0s 769us/step - loss: 0.0117 - mean_squared_error: 0.0117\n",
      "Epoch 4/30\n",
      "140/140 [==============================] - 0s 728us/step - loss: 0.0063 - mean_squared_error: 0.0063\n",
      "Epoch 5/30\n",
      "140/140 [==============================] - 0s 762us/step - loss: 0.0035 - mean_squared_error: 0.0035\n",
      "Epoch 6/30\n",
      "140/140 [==============================] - 0s 748us/step - loss: 0.0020 - mean_squared_error: 0.0020\n",
      "Epoch 7/30\n",
      "140/140 [==============================] - 0s 740us/step - loss: 0.0014 - mean_squared_error: 0.0014\n",
      "Epoch 8/30\n",
      "140/140 [==============================] - 0s 733us/step - loss: 0.0011 - mean_squared_error: 0.0011\n",
      "Epoch 9/30\n",
      "140/140 [==============================] - 0s 869us/step - loss: 8.3629e-04 - mean_squared_error: 8.3629e-04\n",
      "Epoch 10/30\n",
      "140/140 [==============================] - 0s 902us/step - loss: 7.3296e-04 - mean_squared_error: 7.3296e-04\n",
      "Epoch 11/30\n",
      "140/140 [==============================] - 0s 775us/step - loss: 5.8433e-04 - mean_squared_error: 5.8433e-04\n",
      "Epoch 12/30\n",
      "140/140 [==============================] - 0s 735us/step - loss: 5.0848e-04 - mean_squared_error: 5.0848e-04\n",
      "Epoch 13/30\n",
      "140/140 [==============================] - 0s 812us/step - loss: 3.1668e-04 - mean_squared_error: 3.1668e-04\n",
      "Epoch 14/30\n",
      "140/140 [==============================] - 0s 893us/step - loss: 2.7310e-04 - mean_squared_error: 2.7310e-04\n",
      "Epoch 15/30\n",
      "140/140 [==============================] - 0s 826us/step - loss: 2.0382e-04 - mean_squared_error: 2.0382e-04\n",
      "Epoch 16/30\n",
      "140/140 [==============================] - 0s 745us/step - loss: 1.5189e-04 - mean_squared_error: 1.5189e-04\n",
      "Epoch 17/30\n",
      "140/140 [==============================] - 0s 744us/step - loss: 1.2617e-04 - mean_squared_error: 1.2617e-04\n",
      "Epoch 18/30\n",
      "140/140 [==============================] - 0s 763us/step - loss: 1.1252e-04 - mean_squared_error: 1.1252e-04\n",
      "Epoch 19/30\n",
      "140/140 [==============================] - 0s 882us/step - loss: 9.1663e-05 - mean_squared_error: 9.1663e-05\n",
      "Epoch 20/30\n",
      "140/140 [==============================] - 0s 876us/step - loss: 9.7731e-05 - mean_squared_error: 9.7731e-05\n",
      "Epoch 21/30\n",
      "140/140 [==============================] - 0s 819us/step - loss: 9.3695e-05 - mean_squared_error: 9.3695e-05\n",
      "Epoch 22/30\n",
      "140/140 [==============================] - 0s 769us/step - loss: 8.4500e-05 - mean_squared_error: 8.4500e-05\n",
      "Epoch 23/30\n",
      "140/140 [==============================] - 0s 719us/step - loss: 6.8719e-05 - mean_squared_error: 6.8719e-05\n",
      "Epoch 24/30\n",
      "140/140 [==============================] - 0s 729us/step - loss: 6.9475e-05 - mean_squared_error: 6.9475e-05\n",
      "Epoch 25/30\n",
      "140/140 [==============================] - 0s 738us/step - loss: 7.0946e-05 - mean_squared_error: 7.0946e-05\n",
      "Epoch 26/30\n",
      "140/140 [==============================] - 0s 712us/step - loss: 6.4319e-05 - mean_squared_error: 6.4319e-05\n",
      "Epoch 27/30\n",
      "140/140 [==============================] - 0s 707us/step - loss: 5.1739e-05 - mean_squared_error: 5.1739e-05\n",
      "Epoch 28/30\n",
      "140/140 [==============================] - 0s 719us/step - loss: 5.4275e-05 - mean_squared_error: 5.4275e-05\n",
      "Epoch 29/30\n",
      "140/140 [==============================] - 0s 732us/step - loss: 5.8847e-05 - mean_squared_error: 5.8847e-05\n",
      "Epoch 30/30\n",
      "140/140 [==============================] - 0s 733us/step - loss: 4.9059e-05 - mean_squared_error: 4.9059e-05\n"
     ]
    },
    {
     "data": {
      "text/plain": [
       "<keras.callbacks.History at 0x2b21a0ef470>"
      ]
     },
     "execution_count": 27,
     "metadata": {},
     "output_type": "execute_result"
    }
   ],
   "source": [
    "t.train_model(lr=5e-4,n_epochs=30,verbose=1)"
   ]
  },
  {
   "cell_type": "markdown",
   "metadata": {},
   "source": [
    "### Plot the training error"
   ]
  },
  {
   "cell_type": "code",
   "execution_count": 28,
   "metadata": {},
   "outputs": [
    {
     "data": {
      "image/png": "[encoded data removed]",
      "text/plain": [
       "<Figure size 648x360 with 1 Axes>"
      ]
     },
     "metadata": {
      "needs_background": "light"
     },
     "output_type": "display_data"
    }
   ],
   "source": [
    "t.plot_training_error()"
   ]
  },
  {
   "cell_type": "markdown",
   "metadata": {},
   "source": [
    "### Run a benchmark test (plots the test set ground truth against the predictions)\n",
    "\n",
    "This function computes and plots the test set performance against the ground truth (the true values of the test set). This feature is provided for a **one-shot visual check of the effectiveness of the model**. If the data scientist/ML engineer does not like the model performance, (s)he can just look at this plot and re-build and re-train the model."
   ]
  },
  {
   "cell_type": "code",
   "execution_count": 29,
   "metadata": {},
   "outputs": [
    {
     "data": {
      "image/png": "[encoded data removed]",
      "text/plain": [
       "<Figure size 576x360 with 1 Axes>"
      ]
     },
     "metadata": {
      "needs_background": "light"
     },
     "output_type": "display_data"
    }
   ],
   "source": [
    "t.benchmark_test()"
   ]
  },
  {
   "cell_type": "markdown",
   "metadata": {},
   "source": [
    "### Calculate the root-mean-square-error (RMSE) of the test set predictions"
   ]
  },
  {
   "cell_type": "code",
   "execution_count": 30,
   "metadata": {},
   "outputs": [
    {
     "data": {
      "text/plain": [
       "23.53"
      ]
     },
     "execution_count": 30,
     "metadata": {},
     "output_type": "execute_result"
    }
   ],
   "source": [
    "t.rmse_test()"
   ]
  },
  {
   "cell_type": "markdown",
   "metadata": {},
   "source": [
    "### We can also calculate RMSE for any given test set"
   ]
  },
  {
   "cell_type": "code",
   "execution_count": 32,
   "metadata": {},
   "outputs": [],
   "source": [
    "# We take a random sample of 25 data points from the dataset\n",
    "df1 = t.df.sample(25)"
   ]
  },
  {
   "cell_type": "code",
   "execution_count": 33,
   "metadata": {},
   "outputs": [],
   "source": [
    "sample_test_x = df1[['x1','x2','x3','x4']]\n",
    "sample_test_y = df1['y']"
   ]
  },
  {
   "cell_type": "code",
   "execution_count": 34,
   "metadata": {},
   "outputs": [
    {
     "data": {
      "text/plain": [
       "16.489026307342172"
      ]
     },
     "execution_count": 34,
     "metadata": {},
     "output_type": "execute_result"
    }
   ],
   "source": [
    "t.rmse_error(sample_test_x,sample_test_y)"
   ]
  },
  {
   "cell_type": "markdown",
   "metadata": {},
   "source": [
    "There is also a method for mean-absolute-error (MAE) calculation - `mae_error()` "
   ]
  },
  {
   "cell_type": "markdown",
   "metadata": {},
   "source": [
    "### Model summary in simple English"
   ]
  },
  {
   "cell_type": "code",
   "execution_count": 35,
   "metadata": {},
   "outputs": [
    {
     "name": "stdout",
     "output_type": "stream",
     "text": [
      "Here is the model description\n",
      "===========================================================================\n",
      "Layer No. 1\n",
      "Number of neurons: 20\n",
      "Activation function: relu\n",
      "----------------------------------------\n",
      "Layer No. 2\n",
      "Number of neurons: 20\n",
      "Activation function: relu\n",
      "----------------------------------------\n",
      "Layer No. 3 (output layer)\n",
      "Layer No. 3\n",
      "Number of neurons: 1\n",
      "Activation function: linear\n",
      "----------------------------------------\n",
      "In total, there are 541 parameters in this model!\n",
      "\n"
     ]
    }
   ],
   "source": [
    "t.model_in_plain_english()"
   ]
  },
  {
   "cell_type": "markdown",
   "metadata": {},
   "source": [
    "### Keras-style model summary"
   ]
  },
  {
   "cell_type": "code",
   "execution_count": 36,
   "metadata": {},
   "outputs": [
    {
     "name": "stdout",
     "output_type": "stream",
     "text": [
      "_________________________________________________________________\n",
      "Layer (type)                 Output Shape              Param #   \n",
      "=================================================================\n",
      "dense_4 (Dense)              (None, 20)                100       \n",
      "_________________________________________________________________\n",
      "dense_5 (Dense)              (None, 20)                420       \n",
      "_________________________________________________________________\n",
      "dense_6 (Dense)              (None, 1)                 21        \n",
      "=================================================================\n",
      "Total params: 541\n",
      "Trainable params: 541\n",
      "Non-trainable params: 0\n",
      "_________________________________________________________________\n",
      "None\n"
     ]
    }
   ],
   "source": [
    "t.model_summary()"
   ]
  },
  {
   "cell_type": "markdown",
   "metadata": {},
   "source": [
    "### Save the trained model (with a default name)"
   ]
  },
  {
   "cell_type": "code",
   "execution_count": 37,
   "metadata": {},
   "outputs": [],
   "source": [
    "t.save_model()"
   ]
  },
  {
   "cell_type": "markdown",
   "metadata": {},
   "source": [
    "### Save the trained model with an user-supplied name"
   ]
  },
  {
   "cell_type": "code",
   "execution_count": 38,
   "metadata": {},
   "outputs": [],
   "source": [
    "t.save_model(\"My_model.h5\")"
   ]
  }
 ],
 "metadata": {
  "kernelspec": {
   "display_name": "Python 3",
   "language": "python",
   "name": "python3"
  },
  "language_info": {
   "codemirror_mode": {
    "name": "ipython",
    "version": 3
   },
   "file_extension": ".py",
   "mimetype": "text/x-python",
   "name": "python",
   "nbconvert_exporter": "python",
   "pygments_lexer": "ipython3",
   "version": "3.7.0"
  }
 },
 "nbformat": 4,
 "nbformat_minor": 4
}
