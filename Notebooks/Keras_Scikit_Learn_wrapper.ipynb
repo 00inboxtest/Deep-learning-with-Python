{
 "cells": [
  {
   "cell_type": "markdown",
   "metadata": {},
   "source": [
    "# Keras Scikit-learn wrapper class for utilizing cross-validation, grid search etc.\n",
    "### Dr. Tirthajyoti Sarkar, Fremont, CA 94536\n",
    "\n",
    "Keras offer a couple of special wrapper classes - for regression and classification - to utilize the full power of Scikit-learn cross-validation, model selection, pipelining, and grid search abilities.\n",
    "\n",
    "To learn more, see this link: https://keras.io/scikit-learn-api/\n",
    "\n",
    "In this notebook, we will show demo example of using simple k-fold cross-validation and grid search with a Keras classifier model.\n",
    "\n",
    "**NOTE**: If you have latest version of NumPy, you will get lots of warning with Keras. You can supress them in the notebook if you want"
   ]
  },
  {
   "cell_type": "code",
   "execution_count": 1,
   "metadata": {},
   "outputs": [],
   "source": [
    "import warnings\n",
    "warnings.filterwarnings('ignore')\n",
    "\n",
    "import os\n",
    "os.environ['TF_CPP_MIN_LOG_LEVEL'] = '3'"
   ]
  },
  {
   "cell_type": "code",
   "execution_count": 2,
   "metadata": {},
   "outputs": [
    {
     "name": "stderr",
     "output_type": "stream",
     "text": [
      "Using TensorFlow backend.\n"
     ]
    }
   ],
   "source": [
    "# MLP for Pima Indians Dataset with 10-fold cross validation via sklearn\n",
    "from keras.models import Sequential\n",
    "from keras.layers import Dense\n",
    "from keras.wrappers.scikit_learn import KerasClassifier\n",
    "from sklearn.model_selection import StratifiedKFold\n",
    "from sklearn.model_selection import cross_val_score\n",
    "from sklearn.model_selection import GridSearchCV\n",
    "from sklearn.preprocessing import minmax_scale\n",
    "import numpy as np"
   ]
  },
  {
   "cell_type": "markdown",
   "metadata": {},
   "source": [
    "## Example of 10-fold cross-validation with a Keras classifier"
   ]
  },
  {
   "cell_type": "markdown",
   "metadata": {},
   "source": [
    "### Function to create Keras model"
   ]
  },
  {
   "cell_type": "code",
   "execution_count": 3,
   "metadata": {},
   "outputs": [],
   "source": [
    "def create_model():\n",
    "    # create model\n",
    "    model = Sequential()\n",
    "    model.add(Dense(30, input_dim=8, activation='relu'))\n",
    "    model.add(Dense(15, activation='relu'))\n",
    "    model.add(Dense(1, activation='sigmoid'))\n",
    "    # Compile model\n",
    "    model.compile(loss='binary_crossentropy', optimizer='adam', metrics=['accuracy'])\n",
    "    return model"
   ]
  },
  {
   "cell_type": "markdown",
   "metadata": {},
   "source": [
    "### Load pima indians dataset"
   ]
  },
  {
   "cell_type": "code",
   "execution_count": 4,
   "metadata": {},
   "outputs": [],
   "source": [
    "dataset = np.loadtxt(\"..\\Data\\pima-indian-diabetes.csv\", delimiter=\",\",skiprows=1)"
   ]
  },
  {
   "cell_type": "markdown",
   "metadata": {},
   "source": [
    "### Split into input (X) and output (Y) variables, scale the X variables for better accuracy"
   ]
  },
  {
   "cell_type": "code",
   "execution_count": 5,
   "metadata": {},
   "outputs": [],
   "source": [
    "X = dataset[:,0:8]\n",
    "Y = dataset[:,8]"
   ]
  },
  {
   "cell_type": "code",
   "execution_count": 6,
   "metadata": {},
   "outputs": [],
   "source": [
    "X_scaled = minmax_scale(X)"
   ]
  },
  {
   "cell_type": "markdown",
   "metadata": {},
   "source": [
    "### Create the model using `KerasClassifier` class\n",
    "Here, you pass on the `create_model` function, and other hyperparameters like epochs, and batch size.\n",
    "\n",
    "Later, we will see how to also pass on those hyperparameters to this class for a grid search. "
   ]
  },
  {
   "cell_type": "code",
   "execution_count": 12,
   "metadata": {},
   "outputs": [],
   "source": [
    "model = KerasClassifier(build_fn=create_model, epochs=10, batch_size=32, verbose=0)"
   ]
  },
  {
   "cell_type": "markdown",
   "metadata": {},
   "source": [
    "### Evaluate using 10-fold cross validation"
   ]
  },
  {
   "cell_type": "code",
   "execution_count": 13,
   "metadata": {},
   "outputs": [],
   "source": [
    "num_folds = 10"
   ]
  },
  {
   "cell_type": "code",
   "execution_count": 14,
   "metadata": {},
   "outputs": [],
   "source": [
    "kfold = StratifiedKFold(n_splits=num_folds, shuffle=True)"
   ]
  },
  {
   "cell_type": "code",
   "execution_count": 15,
   "metadata": {},
   "outputs": [
    {
     "name": "stderr",
     "output_type": "stream",
     "text": [
      "[Parallel(n_jobs=1)]: Using backend SequentialBackend with 1 concurrent workers.\n"
     ]
    },
    {
     "name": "stdout",
     "output_type": "stream",
     "text": [
      "[CV]  ................................................................\n",
      "[CV] ................................................. , total=   2.5s\n",
      "[CV]  ................................................................\n"
     ]
    },
    {
     "name": "stderr",
     "output_type": "stream",
     "text": [
      "[Parallel(n_jobs=1)]: Done   1 out of   1 | elapsed:    2.4s remaining:    0.0s\n"
     ]
    },
    {
     "name": "stdout",
     "output_type": "stream",
     "text": [
      "[CV] ................................................. , total=   2.6s\n",
      "[CV]  ................................................................\n",
      "[CV] ................................................. , total=   2.8s\n",
      "[CV]  ................................................................\n",
      "[CV] ................................................. , total=   2.8s\n",
      "[CV]  ................................................................\n",
      "[CV] ................................................. , total=   3.0s\n",
      "[CV]  ................................................................\n",
      "[CV] ................................................. , total=   2.9s\n",
      "[CV]  ................................................................\n",
      "[CV] ................................................. , total=   3.0s\n",
      "[CV]  ................................................................\n",
      "[CV] ................................................. , total=   3.2s\n",
      "[CV]  ................................................................\n",
      "[CV] ................................................. , total=   3.3s\n",
      "[CV]  ................................................................\n",
      "[CV] ................................................. , total=   3.5s\n"
     ]
    },
    {
     "name": "stderr",
     "output_type": "stream",
     "text": [
      "[Parallel(n_jobs=1)]: Done  10 out of  10 | elapsed:   29.7s finished\n"
     ]
    }
   ],
   "source": [
    "results = cross_val_score(model, X_scaled, Y, cv=kfold,verbose=2)"
   ]
  },
  {
   "cell_type": "markdown",
   "metadata": {},
   "source": [
    "### Extract the mean of the cross-validation splits' scores"
   ]
  },
  {
   "cell_type": "code",
   "execution_count": 16,
   "metadata": {},
   "outputs": [
    {
     "name": "stdout",
     "output_type": "stream",
     "text": [
      "0.6901059493901218\n"
     ]
    }
   ],
   "source": [
    "print(results.mean())"
   ]
  },
  {
   "cell_type": "markdown",
   "metadata": {},
   "source": [
    "## Example of an exhaustive grid search with a Keras classifier"
   ]
  },
  {
   "cell_type": "markdown",
   "metadata": {},
   "source": [
    "### A model definition with extra arguments"
   ]
  },
  {
   "cell_type": "code",
   "execution_count": 17,
   "metadata": {},
   "outputs": [],
   "source": [
    "def create_model_grid(optimizer='rmsprop', init='glorot_uniform'):\n",
    "    # create model\n",
    "    model = Sequential()\n",
    "    model.add(Dense(12, input_dim=8, kernel_initializer=init, activation='relu'))\n",
    "    model.add(Dense(8, kernel_initializer=init, activation='relu'))\n",
    "    model.add(Dense(1, kernel_initializer=init, activation='sigmoid'))\n",
    "    # Compile model\n",
    "    model.compile(loss='binary_crossentropy', optimizer=optimizer, metrics=['accuracy'])\n",
    "    return model"
   ]
  },
  {
   "cell_type": "code",
   "execution_count": 18,
   "metadata": {},
   "outputs": [],
   "source": [
    "model_grid = KerasClassifier(build_fn=create_model_grid, verbose=0)"
   ]
  },
  {
   "cell_type": "markdown",
   "metadata": {},
   "source": [
    "### Grid search epochs, batch size and optimizer\n",
    "\n",
    "So, the exhaustive hyperparameter search space size is 3 x 3 x 2 x 2 = 36. \n",
    "\n",
    "Note that the **actual number of Keras runs will also depend on the number of cross-validation** we choose, as cross-validation will be used for each of these combinations."
   ]
  },
  {
   "cell_type": "code",
   "execution_count": 19,
   "metadata": {},
   "outputs": [],
   "source": [
    "optimizers = ['rmsprop', 'adam','sgd']\n",
    "init = ['glorot_uniform', 'normal', 'uniform']\n",
    "epochs = [5, 25]\n",
    "batches = [8,64]"
   ]
  },
  {
   "cell_type": "markdown",
   "metadata": {},
   "source": [
    "### Create a dictionary of parameters and pass that to the `GridSearchCV` function as `param_grid`\n",
    "It is advisable to turn on verbosity at this stage to keep track of what's going on. Remember to keep the `verbose=0` for the main `KerasClassifier` class though, as you probably don't want to display all the gory details of training individual epcohs.\n",
    "\n",
    "By default, GridSearchCV runs a 3-fold corss-validation if the `cv` parameter is not specified explicitly. The number of cross-validation is going to change to 5 in the next v0.22 of scikit-learn.\n",
    "\n",
    "To know more about the Grid search function, see the following link: https://scikit-learn.org/stable/modules/generated/sklearn.model_selection.GridSearchCV.html"
   ]
  },
  {
   "cell_type": "code",
   "execution_count": 22,
   "metadata": {},
   "outputs": [],
   "source": [
    "param_grid = dict(optimizer=optimizers, epochs=epochs, batch_size=batches, init=init)\n",
    "grid = GridSearchCV(estimator=model_grid, param_grid=param_grid,verbose=2)"
   ]
  },
  {
   "cell_type": "markdown",
   "metadata": {},
   "source": [
    "### Fit (search) the grid\n",
    "This may take a while depending on the base model architecture, dataset size, and your hardware config."
   ]
  },
  {
   "cell_type": "code",
   "execution_count": 23,
   "metadata": {},
   "outputs": [
    {
     "name": "stdout",
     "output_type": "stream",
     "text": [
      "Fitting 3 folds for each of 36 candidates, totalling 108 fits\n",
      "[CV] batch_size=8, epochs=5, init=glorot_uniform, optimizer=rmsprop ..\n"
     ]
    },
    {
     "name": "stderr",
     "output_type": "stream",
     "text": [
      "[Parallel(n_jobs=1)]: Using backend SequentialBackend with 1 concurrent workers.\n"
     ]
    },
    {
     "name": "stdout",
     "output_type": "stream",
     "text": [
      "[CV]  batch_size=8, epochs=5, init=glorot_uniform, optimizer=rmsprop, total=   3.4s\n",
      "[CV] batch_size=8, epochs=5, init=glorot_uniform, optimizer=rmsprop ..\n"
     ]
    },
    {
     "name": "stderr",
     "output_type": "stream",
     "text": [
      "[Parallel(n_jobs=1)]: Done   1 out of   1 | elapsed:    3.3s remaining:    0.0s\n"
     ]
    },
    {
     "name": "stdout",
     "output_type": "stream",
     "text": [
      "[CV]  batch_size=8, epochs=5, init=glorot_uniform, optimizer=rmsprop, total=   3.6s\n",
      "[CV] batch_size=8, epochs=5, init=glorot_uniform, optimizer=rmsprop ..\n",
      "[CV]  batch_size=8, epochs=5, init=glorot_uniform, optimizer=rmsprop, total=   3.6s\n",
      "[CV] batch_size=8, epochs=5, init=glorot_uniform, optimizer=adam .....\n",
      "[CV]  batch_size=8, epochs=5, init=glorot_uniform, optimizer=adam, total=   3.9s\n",
      "[CV] batch_size=8, epochs=5, init=glorot_uniform, optimizer=adam .....\n",
      "[CV]  batch_size=8, epochs=5, init=glorot_uniform, optimizer=adam, total=   3.9s\n",
      "[CV] batch_size=8, epochs=5, init=glorot_uniform, optimizer=adam .....\n",
      "[CV]  batch_size=8, epochs=5, init=glorot_uniform, optimizer=adam, total=   4.0s\n",
      "[CV] batch_size=8, epochs=5, init=glorot_uniform, optimizer=sgd ......\n",
      "[CV]  batch_size=8, epochs=5, init=glorot_uniform, optimizer=sgd, total=   3.9s\n",
      "[CV] batch_size=8, epochs=5, init=glorot_uniform, optimizer=sgd ......\n",
      "[CV]  batch_size=8, epochs=5, init=glorot_uniform, optimizer=sgd, total=   4.0s\n",
      "[CV] batch_size=8, epochs=5, init=glorot_uniform, optimizer=sgd ......\n",
      "[CV]  batch_size=8, epochs=5, init=glorot_uniform, optimizer=sgd, total=   4.0s\n",
      "[CV] batch_size=8, epochs=5, init=normal, optimizer=rmsprop ..........\n",
      "[CV]  batch_size=8, epochs=5, init=normal, optimizer=rmsprop, total=   4.3s\n",
      "[CV] batch_size=8, epochs=5, init=normal, optimizer=rmsprop ..........\n",
      "[CV]  batch_size=8, epochs=5, init=normal, optimizer=rmsprop, total=   4.4s\n",
      "[CV] batch_size=8, epochs=5, init=normal, optimizer=rmsprop ..........\n",
      "[CV]  batch_size=8, epochs=5, init=normal, optimizer=rmsprop, total=   4.3s\n",
      "[CV] batch_size=8, epochs=5, init=normal, optimizer=adam .............\n",
      "[CV]  batch_size=8, epochs=5, init=normal, optimizer=adam, total=   4.6s\n",
      "[CV] batch_size=8, epochs=5, init=normal, optimizer=adam .............\n",
      "[CV]  batch_size=8, epochs=5, init=normal, optimizer=adam, total=   4.7s\n",
      "[CV] batch_size=8, epochs=5, init=normal, optimizer=adam .............\n",
      "[CV]  batch_size=8, epochs=5, init=normal, optimizer=adam, total=   4.8s\n",
      "[CV] batch_size=8, epochs=5, init=normal, optimizer=sgd ..............\n",
      "[CV]  batch_size=8, epochs=5, init=normal, optimizer=sgd, total=   4.6s\n",
      "[CV] batch_size=8, epochs=5, init=normal, optimizer=sgd ..............\n",
      "[CV]  batch_size=8, epochs=5, init=normal, optimizer=sgd, total=   4.7s\n",
      "[CV] batch_size=8, epochs=5, init=normal, optimizer=sgd ..............\n",
      "[CV]  batch_size=8, epochs=5, init=normal, optimizer=sgd, total=   4.8s\n",
      "[CV] batch_size=8, epochs=5, init=uniform, optimizer=rmsprop .........\n",
      "[CV]  batch_size=8, epochs=5, init=uniform, optimizer=rmsprop, total=   5.0s\n",
      "[CV] batch_size=8, epochs=5, init=uniform, optimizer=rmsprop .........\n",
      "[CV]  batch_size=8, epochs=5, init=uniform, optimizer=rmsprop, total=   5.0s\n",
      "[CV] batch_size=8, epochs=5, init=uniform, optimizer=rmsprop .........\n",
      "[CV]  batch_size=8, epochs=5, init=uniform, optimizer=rmsprop, total=   5.1s\n",
      "[CV] batch_size=8, epochs=5, init=uniform, optimizer=adam ............\n",
      "[CV]  batch_size=8, epochs=5, init=uniform, optimizer=adam, total=   5.6s\n",
      "[CV] batch_size=8, epochs=5, init=uniform, optimizer=adam ............\n",
      "[CV]  batch_size=8, epochs=5, init=uniform, optimizer=adam, total=   5.4s\n",
      "[CV] batch_size=8, epochs=5, init=uniform, optimizer=adam ............\n",
      "[CV]  batch_size=8, epochs=5, init=uniform, optimizer=adam, total=   5.5s\n",
      "[CV] batch_size=8, epochs=5, init=uniform, optimizer=sgd .............\n",
      "[CV]  batch_size=8, epochs=5, init=uniform, optimizer=sgd, total=   5.4s\n",
      "[CV] batch_size=8, epochs=5, init=uniform, optimizer=sgd .............\n",
      "[CV]  batch_size=8, epochs=5, init=uniform, optimizer=sgd, total=   5.5s\n",
      "[CV] batch_size=8, epochs=5, init=uniform, optimizer=sgd .............\n",
      "[CV]  batch_size=8, epochs=5, init=uniform, optimizer=sgd, total=   5.5s\n",
      "[CV] batch_size=8, epochs=25, init=glorot_uniform, optimizer=rmsprop .\n",
      "[CV]  batch_size=8, epochs=25, init=glorot_uniform, optimizer=rmsprop, total=   7.4s\n",
      "[CV] batch_size=8, epochs=25, init=glorot_uniform, optimizer=rmsprop .\n",
      "[CV]  batch_size=8, epochs=25, init=glorot_uniform, optimizer=rmsprop, total=   7.2s\n",
      "[CV] batch_size=8, epochs=25, init=glorot_uniform, optimizer=rmsprop .\n",
      "[CV]  batch_size=8, epochs=25, init=glorot_uniform, optimizer=rmsprop, total=   7.3s\n",
      "[CV] batch_size=8, epochs=25, init=glorot_uniform, optimizer=adam ....\n",
      "[CV]  batch_size=8, epochs=25, init=glorot_uniform, optimizer=adam, total=   7.7s\n",
      "[CV] batch_size=8, epochs=25, init=glorot_uniform, optimizer=adam ....\n",
      "[CV]  batch_size=8, epochs=25, init=glorot_uniform, optimizer=adam, total=   7.8s\n",
      "[CV] batch_size=8, epochs=25, init=glorot_uniform, optimizer=adam ....\n",
      "[CV]  batch_size=8, epochs=25, init=glorot_uniform, optimizer=adam, total=   8.6s\n",
      "[CV] batch_size=8, epochs=25, init=glorot_uniform, optimizer=sgd .....\n",
      "[CV]  batch_size=8, epochs=25, init=glorot_uniform, optimizer=sgd, total=   7.9s\n",
      "[CV] batch_size=8, epochs=25, init=glorot_uniform, optimizer=sgd .....\n",
      "[CV]  batch_size=8, epochs=25, init=glorot_uniform, optimizer=sgd, total=   7.8s\n",
      "[CV] batch_size=8, epochs=25, init=glorot_uniform, optimizer=sgd .....\n",
      "[CV]  batch_size=8, epochs=25, init=glorot_uniform, optimizer=sgd, total=   8.0s\n",
      "[CV] batch_size=8, epochs=25, init=normal, optimizer=rmsprop .........\n",
      "[CV]  batch_size=8, epochs=25, init=normal, optimizer=rmsprop, total=   8.2s\n",
      "[CV] batch_size=8, epochs=25, init=normal, optimizer=rmsprop .........\n",
      "[CV]  batch_size=8, epochs=25, init=normal, optimizer=rmsprop, total=   8.1s\n",
      "[CV] batch_size=8, epochs=25, init=normal, optimizer=rmsprop .........\n",
      "[CV]  batch_size=8, epochs=25, init=normal, optimizer=rmsprop, total=   8.2s\n",
      "[CV] batch_size=8, epochs=25, init=normal, optimizer=adam ............\n",
      "[CV]  batch_size=8, epochs=25, init=normal, optimizer=adam, total=   8.5s\n",
      "[CV] batch_size=8, epochs=25, init=normal, optimizer=adam ............\n",
      "[CV]  batch_size=8, epochs=25, init=normal, optimizer=adam, total=   8.6s\n",
      "[CV] batch_size=8, epochs=25, init=normal, optimizer=adam ............\n",
      "[CV]  batch_size=8, epochs=25, init=normal, optimizer=adam, total=   8.8s\n",
      "[CV] batch_size=8, epochs=25, init=normal, optimizer=sgd .............\n",
      "[CV]  batch_size=8, epochs=25, init=normal, optimizer=sgd, total=   8.5s\n",
      "[CV] batch_size=8, epochs=25, init=normal, optimizer=sgd .............\n",
      "[CV]  batch_size=8, epochs=25, init=normal, optimizer=sgd, total=   8.5s\n",
      "[CV] batch_size=8, epochs=25, init=normal, optimizer=sgd .............\n",
      "[CV]  batch_size=8, epochs=25, init=normal, optimizer=sgd, total=   8.7s\n",
      "[CV] batch_size=8, epochs=25, init=uniform, optimizer=rmsprop ........\n",
      "[CV]  batch_size=8, epochs=25, init=uniform, optimizer=rmsprop, total=   8.8s\n",
      "[CV] batch_size=8, epochs=25, init=uniform, optimizer=rmsprop ........\n",
      "[CV]  batch_size=8, epochs=25, init=uniform, optimizer=rmsprop, total=   9.0s\n",
      "[CV] batch_size=8, epochs=25, init=uniform, optimizer=rmsprop ........\n",
      "[CV]  batch_size=8, epochs=25, init=uniform, optimizer=rmsprop, total=   9.0s\n",
      "[CV] batch_size=8, epochs=25, init=uniform, optimizer=adam ...........\n",
      "[CV]  batch_size=8, epochs=25, init=uniform, optimizer=adam, total=   9.9s\n",
      "[CV] batch_size=8, epochs=25, init=uniform, optimizer=adam ...........\n",
      "[CV]  batch_size=8, epochs=25, init=uniform, optimizer=adam, total=   9.6s\n",
      "[CV] batch_size=8, epochs=25, init=uniform, optimizer=adam ...........\n",
      "[CV]  batch_size=8, epochs=25, init=uniform, optimizer=adam, total=   9.9s\n",
      "[CV] batch_size=8, epochs=25, init=uniform, optimizer=sgd ............\n",
      "[CV]  batch_size=8, epochs=25, init=uniform, optimizer=sgd, total=   9.2s\n",
      "[CV] batch_size=8, epochs=25, init=uniform, optimizer=sgd ............\n",
      "[CV]  batch_size=8, epochs=25, init=uniform, optimizer=sgd, total=   9.2s\n",
      "[CV] batch_size=8, epochs=25, init=uniform, optimizer=sgd ............\n",
      "[CV]  batch_size=8, epochs=25, init=uniform, optimizer=sgd, total=   9.3s\n",
      "[CV] batch_size=64, epochs=5, init=glorot_uniform, optimizer=rmsprop .\n",
      "[CV]  batch_size=64, epochs=5, init=glorot_uniform, optimizer=rmsprop, total=   7.9s\n",
      "[CV] batch_size=64, epochs=5, init=glorot_uniform, optimizer=rmsprop .\n",
      "[CV]  batch_size=64, epochs=5, init=glorot_uniform, optimizer=rmsprop, total=   8.0s\n",
      "[CV] batch_size=64, epochs=5, init=glorot_uniform, optimizer=rmsprop .\n",
      "[CV]  batch_size=64, epochs=5, init=glorot_uniform, optimizer=rmsprop, total=   8.2s\n",
      "[CV] batch_size=64, epochs=5, init=glorot_uniform, optimizer=adam ....\n",
      "[CV]  batch_size=64, epochs=5, init=glorot_uniform, optimizer=adam, total=   8.1s\n",
      "[CV] batch_size=64, epochs=5, init=glorot_uniform, optimizer=adam ....\n",
      "[CV]  batch_size=64, epochs=5, init=glorot_uniform, optimizer=adam, total=   8.0s\n",
      "[CV] batch_size=64, epochs=5, init=glorot_uniform, optimizer=adam ....\n",
      "[CV]  batch_size=64, epochs=5, init=glorot_uniform, optimizer=adam, total=   8.0s\n",
      "[CV] batch_size=64, epochs=5, init=glorot_uniform, optimizer=sgd .....\n",
      "[CV]  batch_size=64, epochs=5, init=glorot_uniform, optimizer=sgd, total=   8.1s\n",
      "[CV] batch_size=64, epochs=5, init=glorot_uniform, optimizer=sgd .....\n",
      "[CV]  batch_size=64, epochs=5, init=glorot_uniform, optimizer=sgd, total=   8.1s\n",
      "[CV] batch_size=64, epochs=5, init=glorot_uniform, optimizer=sgd .....\n",
      "[CV]  batch_size=64, epochs=5, init=glorot_uniform, optimizer=sgd, total=   8.0s\n",
      "[CV] batch_size=64, epochs=5, init=normal, optimizer=rmsprop .........\n",
      "[CV]  batch_size=64, epochs=5, init=normal, optimizer=rmsprop, total=   8.2s\n",
      "[CV] batch_size=64, epochs=5, init=normal, optimizer=rmsprop .........\n",
      "[CV]  batch_size=64, epochs=5, init=normal, optimizer=rmsprop, total=   8.6s\n",
      "[CV] batch_size=64, epochs=5, init=normal, optimizer=rmsprop .........\n",
      "[CV]  batch_size=64, epochs=5, init=normal, optimizer=rmsprop, total=   8.5s\n",
      "[CV] batch_size=64, epochs=5, init=normal, optimizer=adam ............\n",
      "[CV]  batch_size=64, epochs=5, init=normal, optimizer=adam, total=   8.8s\n",
      "[CV] batch_size=64, epochs=5, init=normal, optimizer=adam ............\n",
      "[CV]  batch_size=64, epochs=5, init=normal, optimizer=adam, total=   9.1s\n",
      "[CV] batch_size=64, epochs=5, init=normal, optimizer=adam ............\n",
      "[CV]  batch_size=64, epochs=5, init=normal, optimizer=adam, total=   8.9s\n",
      "[CV] batch_size=64, epochs=5, init=normal, optimizer=sgd .............\n",
      "[CV]  batch_size=64, epochs=5, init=normal, optimizer=sgd, total=   8.9s\n",
      "[CV] batch_size=64, epochs=5, init=normal, optimizer=sgd .............\n",
      "[CV]  batch_size=64, epochs=5, init=normal, optimizer=sgd, total=   8.9s\n",
      "[CV] batch_size=64, epochs=5, init=normal, optimizer=sgd .............\n",
      "[CV]  batch_size=64, epochs=5, init=normal, optimizer=sgd, total=   8.9s\n",
      "[CV] batch_size=64, epochs=5, init=uniform, optimizer=rmsprop ........\n",
      "[CV]  batch_size=64, epochs=5, init=uniform, optimizer=rmsprop, total=   9.1s\n",
      "[CV] batch_size=64, epochs=5, init=uniform, optimizer=rmsprop ........\n",
      "[CV]  batch_size=64, epochs=5, init=uniform, optimizer=rmsprop, total=   9.1s\n",
      "[CV] batch_size=64, epochs=5, init=uniform, optimizer=rmsprop ........\n",
      "[CV]  batch_size=64, epochs=5, init=uniform, optimizer=rmsprop, total=   9.3s\n",
      "[CV] batch_size=64, epochs=5, init=uniform, optimizer=adam ...........\n",
      "[CV]  batch_size=64, epochs=5, init=uniform, optimizer=adam, total=   9.5s\n",
      "[CV] batch_size=64, epochs=5, init=uniform, optimizer=adam ...........\n",
      "[CV]  batch_size=64, epochs=5, init=uniform, optimizer=adam, total=   9.8s\n",
      "[CV] batch_size=64, epochs=5, init=uniform, optimizer=adam ...........\n",
      "[CV]  batch_size=64, epochs=5, init=uniform, optimizer=adam, total=  10.1s\n",
      "[CV] batch_size=64, epochs=5, init=uniform, optimizer=sgd ............\n",
      "[CV]  batch_size=64, epochs=5, init=uniform, optimizer=sgd, total=   9.7s\n",
      "[CV] batch_size=64, epochs=5, init=uniform, optimizer=sgd ............\n",
      "[CV]  batch_size=64, epochs=5, init=uniform, optimizer=sgd, total=   9.8s\n",
      "[CV] batch_size=64, epochs=5, init=uniform, optimizer=sgd ............\n",
      "[CV]  batch_size=64, epochs=5, init=uniform, optimizer=sgd, total=   9.8s\n",
      "[CV] batch_size=64, epochs=25, init=glorot_uniform, optimizer=rmsprop \n",
      "[CV]  batch_size=64, epochs=25, init=glorot_uniform, optimizer=rmsprop, total=  10.3s\n",
      "[CV] batch_size=64, epochs=25, init=glorot_uniform, optimizer=rmsprop \n",
      "[CV]  batch_size=64, epochs=25, init=glorot_uniform, optimizer=rmsprop, total=  10.2s\n",
      "[CV] batch_size=64, epochs=25, init=glorot_uniform, optimizer=rmsprop \n",
      "[CV]  batch_size=64, epochs=25, init=glorot_uniform, optimizer=rmsprop, total=  10.4s\n",
      "[CV] batch_size=64, epochs=25, init=glorot_uniform, optimizer=adam ...\n",
      "[CV]  batch_size=64, epochs=25, init=glorot_uniform, optimizer=adam, total=  10.6s\n",
      "[CV] batch_size=64, epochs=25, init=glorot_uniform, optimizer=adam ...\n",
      "[CV]  batch_size=64, epochs=25, init=glorot_uniform, optimizer=adam, total=  10.7s\n",
      "[CV] batch_size=64, epochs=25, init=glorot_uniform, optimizer=adam ...\n",
      "[CV]  batch_size=64, epochs=25, init=glorot_uniform, optimizer=adam, total=  10.8s\n",
      "[CV] batch_size=64, epochs=25, init=glorot_uniform, optimizer=sgd ....\n",
      "[CV]  batch_size=64, epochs=25, init=glorot_uniform, optimizer=sgd, total=  10.6s\n",
      "[CV] batch_size=64, epochs=25, init=glorot_uniform, optimizer=sgd ....\n",
      "[CV]  batch_size=64, epochs=25, init=glorot_uniform, optimizer=sgd, total=  10.7s\n",
      "[CV] batch_size=64, epochs=25, init=glorot_uniform, optimizer=sgd ....\n",
      "[CV]  batch_size=64, epochs=25, init=glorot_uniform, optimizer=sgd, total=  10.8s\n",
      "[CV] batch_size=64, epochs=25, init=normal, optimizer=rmsprop ........\n",
      "[CV]  batch_size=64, epochs=25, init=normal, optimizer=rmsprop, total=  11.0s\n",
      "[CV] batch_size=64, epochs=25, init=normal, optimizer=rmsprop ........\n",
      "[CV]  batch_size=64, epochs=25, init=normal, optimizer=rmsprop, total=  11.3s\n",
      "[CV] batch_size=64, epochs=25, init=normal, optimizer=rmsprop ........\n",
      "[CV]  batch_size=64, epochs=25, init=normal, optimizer=rmsprop, total=  11.3s\n",
      "[CV] batch_size=64, epochs=25, init=normal, optimizer=adam ...........\n",
      "[CV]  batch_size=64, epochs=25, init=normal, optimizer=adam, total=  11.6s\n",
      "[CV] batch_size=64, epochs=25, init=normal, optimizer=adam ...........\n",
      "[CV]  batch_size=64, epochs=25, init=normal, optimizer=adam, total=  11.5s\n",
      "[CV] batch_size=64, epochs=25, init=normal, optimizer=adam ...........\n",
      "[CV]  batch_size=64, epochs=25, init=normal, optimizer=adam, total=  11.6s\n",
      "[CV] batch_size=64, epochs=25, init=normal, optimizer=sgd ............\n",
      "[CV]  batch_size=64, epochs=25, init=normal, optimizer=sgd, total=  11.5s\n",
      "[CV] batch_size=64, epochs=25, init=normal, optimizer=sgd ............\n",
      "[CV]  batch_size=64, epochs=25, init=normal, optimizer=sgd, total=  11.5s\n",
      "[CV] batch_size=64, epochs=25, init=normal, optimizer=sgd ............\n",
      "[CV]  batch_size=64, epochs=25, init=normal, optimizer=sgd, total=  11.9s\n",
      "[CV] batch_size=64, epochs=25, init=uniform, optimizer=rmsprop .......\n",
      "[CV]  batch_size=64, epochs=25, init=uniform, optimizer=rmsprop, total=  12.1s\n",
      "[CV] batch_size=64, epochs=25, init=uniform, optimizer=rmsprop .......\n",
      "[CV]  batch_size=64, epochs=25, init=uniform, optimizer=rmsprop, total=  11.9s\n",
      "[CV] batch_size=64, epochs=25, init=uniform, optimizer=rmsprop .......\n",
      "[CV]  batch_size=64, epochs=25, init=uniform, optimizer=rmsprop, total=  12.0s\n",
      "[CV] batch_size=64, epochs=25, init=uniform, optimizer=adam ..........\n",
      "[CV]  batch_size=64, epochs=25, init=uniform, optimizer=adam, total=  12.1s\n",
      "[CV] batch_size=64, epochs=25, init=uniform, optimizer=adam ..........\n",
      "[CV]  batch_size=64, epochs=25, init=uniform, optimizer=adam, total=  12.1s\n",
      "[CV] batch_size=64, epochs=25, init=uniform, optimizer=adam ..........\n",
      "[CV]  batch_size=64, epochs=25, init=uniform, optimizer=adam, total=  12.2s\n",
      "[CV] batch_size=64, epochs=25, init=uniform, optimizer=sgd ...........\n",
      "[CV]  batch_size=64, epochs=25, init=uniform, optimizer=sgd, total=  12.1s\n",
      "[CV] batch_size=64, epochs=25, init=uniform, optimizer=sgd ...........\n",
      "[CV]  batch_size=64, epochs=25, init=uniform, optimizer=sgd, total=  12.3s\n",
      "[CV] batch_size=64, epochs=25, init=uniform, optimizer=sgd ...........\n",
      "[CV]  batch_size=64, epochs=25, init=uniform, optimizer=sgd, total=  12.8s\n"
     ]
    },
    {
     "name": "stderr",
     "output_type": "stream",
     "text": [
      "[Parallel(n_jobs=1)]: Done 108 out of 108 | elapsed: 15.0min finished\n"
     ]
    }
   ],
   "source": [
    "grid_result = grid.fit(X_scaled, Y)"
   ]
  },
  {
   "cell_type": "markdown",
   "metadata": {},
   "source": [
    "### Print the best accuracy result"
   ]
  },
  {
   "cell_type": "code",
   "execution_count": 24,
   "metadata": {},
   "outputs": [
    {
     "name": "stdout",
     "output_type": "stream",
     "text": [
      "Best: 0.752604 using {'batch_size': 8, 'epochs': 25, 'init': 'glorot_uniform', 'optimizer': 'adam'}\n"
     ]
    }
   ],
   "source": [
    "print(\"Best: %f using %s\" % (grid_result.best_score_, grid_result.best_params_))"
   ]
  },
  {
   "cell_type": "markdown",
   "metadata": {},
   "source": [
    "### Extract all the results (both mean and std. dev for the cross-validation runs)"
   ]
  },
  {
   "cell_type": "code",
   "execution_count": 26,
   "metadata": {},
   "outputs": [],
   "source": [
    "means = grid_result.cv_results_['mean_test_score']\n",
    "stds = grid_result.cv_results_['std_test_score']\n",
    "params = grid_result.cv_results_['params']"
   ]
  },
  {
   "cell_type": "markdown",
   "metadata": {},
   "source": [
    "### Create a dataframe/table of all the runs with accuracy metric for analyzing later"
   ]
  },
  {
   "cell_type": "code",
   "execution_count": 27,
   "metadata": {},
   "outputs": [],
   "source": [
    "import pandas as pd\n",
    "\n",
    "d=pd.DataFrame(params)\n",
    "d['Mean']=means\n",
    "d['Std. Dev']=stds"
   ]
  },
  {
   "cell_type": "code",
   "execution_count": 28,
   "metadata": {},
   "outputs": [
    {
     "data": {
      "text/html": [
       "<div>\n",
       "<style scoped>\n",
       "    .dataframe tbody tr th:only-of-type {\n",
       "        vertical-align: middle;\n",
       "    }\n",
       "\n",
       "    .dataframe tbody tr th {\n",
       "        vertical-align: top;\n",
       "    }\n",
       "\n",
       "    .dataframe thead th {\n",
       "        text-align: right;\n",
       "    }\n",
       "</style>\n",
       "<table border=\"1\" class=\"dataframe\">\n",
       "  <thead>\n",
       "    <tr style=\"text-align: right;\">\n",
       "      <th></th>\n",
       "      <th>batch_size</th>\n",
       "      <th>epochs</th>\n",
       "      <th>init</th>\n",
       "      <th>optimizer</th>\n",
       "      <th>Mean</th>\n",
       "      <th>Std. Dev</th>\n",
       "    </tr>\n",
       "  </thead>\n",
       "  <tbody>\n",
       "    <tr>\n",
       "      <th>0</th>\n",
       "      <td>8</td>\n",
       "      <td>5</td>\n",
       "      <td>glorot_uniform</td>\n",
       "      <td>rmsprop</td>\n",
       "      <td>0.656250</td>\n",
       "      <td>0.027805</td>\n",
       "    </tr>\n",
       "    <tr>\n",
       "      <th>1</th>\n",
       "      <td>8</td>\n",
       "      <td>5</td>\n",
       "      <td>glorot_uniform</td>\n",
       "      <td>adam</td>\n",
       "      <td>0.651042</td>\n",
       "      <td>0.024774</td>\n",
       "    </tr>\n",
       "    <tr>\n",
       "      <th>2</th>\n",
       "      <td>8</td>\n",
       "      <td>5</td>\n",
       "      <td>glorot_uniform</td>\n",
       "      <td>sgd</td>\n",
       "      <td>0.657552</td>\n",
       "      <td>0.028587</td>\n",
       "    </tr>\n",
       "    <tr>\n",
       "      <th>3</th>\n",
       "      <td>8</td>\n",
       "      <td>5</td>\n",
       "      <td>normal</td>\n",
       "      <td>rmsprop</td>\n",
       "      <td>0.651042</td>\n",
       "      <td>0.024774</td>\n",
       "    </tr>\n",
       "    <tr>\n",
       "      <th>4</th>\n",
       "      <td>8</td>\n",
       "      <td>5</td>\n",
       "      <td>normal</td>\n",
       "      <td>adam</td>\n",
       "      <td>0.651042</td>\n",
       "      <td>0.024774</td>\n",
       "    </tr>\n",
       "    <tr>\n",
       "      <th>5</th>\n",
       "      <td>8</td>\n",
       "      <td>5</td>\n",
       "      <td>normal</td>\n",
       "      <td>sgd</td>\n",
       "      <td>0.651042</td>\n",
       "      <td>0.024774</td>\n",
       "    </tr>\n",
       "    <tr>\n",
       "      <th>6</th>\n",
       "      <td>8</td>\n",
       "      <td>5</td>\n",
       "      <td>uniform</td>\n",
       "      <td>rmsprop</td>\n",
       "      <td>0.651042</td>\n",
       "      <td>0.024774</td>\n",
       "    </tr>\n",
       "    <tr>\n",
       "      <th>7</th>\n",
       "      <td>8</td>\n",
       "      <td>5</td>\n",
       "      <td>uniform</td>\n",
       "      <td>adam</td>\n",
       "      <td>0.651042</td>\n",
       "      <td>0.024774</td>\n",
       "    </tr>\n",
       "    <tr>\n",
       "      <th>8</th>\n",
       "      <td>8</td>\n",
       "      <td>5</td>\n",
       "      <td>uniform</td>\n",
       "      <td>sgd</td>\n",
       "      <td>0.651042</td>\n",
       "      <td>0.024774</td>\n",
       "    </tr>\n",
       "    <tr>\n",
       "      <th>9</th>\n",
       "      <td>8</td>\n",
       "      <td>25</td>\n",
       "      <td>glorot_uniform</td>\n",
       "      <td>rmsprop</td>\n",
       "      <td>0.684896</td>\n",
       "      <td>0.043303</td>\n",
       "    </tr>\n",
       "    <tr>\n",
       "      <th>10</th>\n",
       "      <td>8</td>\n",
       "      <td>25</td>\n",
       "      <td>glorot_uniform</td>\n",
       "      <td>adam</td>\n",
       "      <td>0.752604</td>\n",
       "      <td>0.041134</td>\n",
       "    </tr>\n",
       "    <tr>\n",
       "      <th>11</th>\n",
       "      <td>8</td>\n",
       "      <td>25</td>\n",
       "      <td>glorot_uniform</td>\n",
       "      <td>sgd</td>\n",
       "      <td>0.666667</td>\n",
       "      <td>0.056727</td>\n",
       "    </tr>\n",
       "    <tr>\n",
       "      <th>12</th>\n",
       "      <td>8</td>\n",
       "      <td>25</td>\n",
       "      <td>normal</td>\n",
       "      <td>rmsprop</td>\n",
       "      <td>0.710938</td>\n",
       "      <td>0.047628</td>\n",
       "    </tr>\n",
       "    <tr>\n",
       "      <th>13</th>\n",
       "      <td>8</td>\n",
       "      <td>25</td>\n",
       "      <td>normal</td>\n",
       "      <td>adam</td>\n",
       "      <td>0.683594</td>\n",
       "      <td>0.061598</td>\n",
       "    </tr>\n",
       "    <tr>\n",
       "      <th>14</th>\n",
       "      <td>8</td>\n",
       "      <td>25</td>\n",
       "      <td>normal</td>\n",
       "      <td>sgd</td>\n",
       "      <td>0.651042</td>\n",
       "      <td>0.024774</td>\n",
       "    </tr>\n",
       "    <tr>\n",
       "      <th>15</th>\n",
       "      <td>8</td>\n",
       "      <td>25</td>\n",
       "      <td>uniform</td>\n",
       "      <td>rmsprop</td>\n",
       "      <td>0.674479</td>\n",
       "      <td>0.053591</td>\n",
       "    </tr>\n",
       "    <tr>\n",
       "      <th>16</th>\n",
       "      <td>8</td>\n",
       "      <td>25</td>\n",
       "      <td>uniform</td>\n",
       "      <td>adam</td>\n",
       "      <td>0.695312</td>\n",
       "      <td>0.071032</td>\n",
       "    </tr>\n",
       "    <tr>\n",
       "      <th>17</th>\n",
       "      <td>8</td>\n",
       "      <td>25</td>\n",
       "      <td>uniform</td>\n",
       "      <td>sgd</td>\n",
       "      <td>0.651042</td>\n",
       "      <td>0.024774</td>\n",
       "    </tr>\n",
       "    <tr>\n",
       "      <th>18</th>\n",
       "      <td>64</td>\n",
       "      <td>5</td>\n",
       "      <td>glorot_uniform</td>\n",
       "      <td>rmsprop</td>\n",
       "      <td>0.657552</td>\n",
       "      <td>0.029635</td>\n",
       "    </tr>\n",
       "    <tr>\n",
       "      <th>19</th>\n",
       "      <td>64</td>\n",
       "      <td>5</td>\n",
       "      <td>glorot_uniform</td>\n",
       "      <td>adam</td>\n",
       "      <td>0.552083</td>\n",
       "      <td>0.131362</td>\n",
       "    </tr>\n",
       "    <tr>\n",
       "      <th>20</th>\n",
       "      <td>64</td>\n",
       "      <td>5</td>\n",
       "      <td>glorot_uniform</td>\n",
       "      <td>sgd</td>\n",
       "      <td>0.649740</td>\n",
       "      <td>0.023073</td>\n",
       "    </tr>\n",
       "    <tr>\n",
       "      <th>21</th>\n",
       "      <td>64</td>\n",
       "      <td>5</td>\n",
       "      <td>normal</td>\n",
       "      <td>rmsprop</td>\n",
       "      <td>0.651042</td>\n",
       "      <td>0.024774</td>\n",
       "    </tr>\n",
       "    <tr>\n",
       "      <th>22</th>\n",
       "      <td>64</td>\n",
       "      <td>5</td>\n",
       "      <td>normal</td>\n",
       "      <td>adam</td>\n",
       "      <td>0.651042</td>\n",
       "      <td>0.024774</td>\n",
       "    </tr>\n",
       "    <tr>\n",
       "      <th>23</th>\n",
       "      <td>64</td>\n",
       "      <td>5</td>\n",
       "      <td>normal</td>\n",
       "      <td>sgd</td>\n",
       "      <td>0.651042</td>\n",
       "      <td>0.024774</td>\n",
       "    </tr>\n",
       "    <tr>\n",
       "      <th>24</th>\n",
       "      <td>64</td>\n",
       "      <td>5</td>\n",
       "      <td>uniform</td>\n",
       "      <td>rmsprop</td>\n",
       "      <td>0.651042</td>\n",
       "      <td>0.024774</td>\n",
       "    </tr>\n",
       "    <tr>\n",
       "      <th>25</th>\n",
       "      <td>64</td>\n",
       "      <td>5</td>\n",
       "      <td>uniform</td>\n",
       "      <td>adam</td>\n",
       "      <td>0.651042</td>\n",
       "      <td>0.024774</td>\n",
       "    </tr>\n",
       "    <tr>\n",
       "      <th>26</th>\n",
       "      <td>64</td>\n",
       "      <td>5</td>\n",
       "      <td>uniform</td>\n",
       "      <td>sgd</td>\n",
       "      <td>0.651042</td>\n",
       "      <td>0.024774</td>\n",
       "    </tr>\n",
       "    <tr>\n",
       "      <th>27</th>\n",
       "      <td>64</td>\n",
       "      <td>25</td>\n",
       "      <td>glorot_uniform</td>\n",
       "      <td>rmsprop</td>\n",
       "      <td>0.652344</td>\n",
       "      <td>0.025315</td>\n",
       "    </tr>\n",
       "    <tr>\n",
       "      <th>28</th>\n",
       "      <td>64</td>\n",
       "      <td>25</td>\n",
       "      <td>glorot_uniform</td>\n",
       "      <td>adam</td>\n",
       "      <td>0.654948</td>\n",
       "      <td>0.028940</td>\n",
       "    </tr>\n",
       "    <tr>\n",
       "      <th>29</th>\n",
       "      <td>64</td>\n",
       "      <td>25</td>\n",
       "      <td>glorot_uniform</td>\n",
       "      <td>sgd</td>\n",
       "      <td>0.651042</td>\n",
       "      <td>0.024774</td>\n",
       "    </tr>\n",
       "    <tr>\n",
       "      <th>30</th>\n",
       "      <td>64</td>\n",
       "      <td>25</td>\n",
       "      <td>normal</td>\n",
       "      <td>rmsprop</td>\n",
       "      <td>0.651042</td>\n",
       "      <td>0.024774</td>\n",
       "    </tr>\n",
       "    <tr>\n",
       "      <th>31</th>\n",
       "      <td>64</td>\n",
       "      <td>25</td>\n",
       "      <td>normal</td>\n",
       "      <td>adam</td>\n",
       "      <td>0.651042</td>\n",
       "      <td>0.024774</td>\n",
       "    </tr>\n",
       "    <tr>\n",
       "      <th>32</th>\n",
       "      <td>64</td>\n",
       "      <td>25</td>\n",
       "      <td>normal</td>\n",
       "      <td>sgd</td>\n",
       "      <td>0.651042</td>\n",
       "      <td>0.024774</td>\n",
       "    </tr>\n",
       "    <tr>\n",
       "      <th>33</th>\n",
       "      <td>64</td>\n",
       "      <td>25</td>\n",
       "      <td>uniform</td>\n",
       "      <td>rmsprop</td>\n",
       "      <td>0.651042</td>\n",
       "      <td>0.024774</td>\n",
       "    </tr>\n",
       "    <tr>\n",
       "      <th>34</th>\n",
       "      <td>64</td>\n",
       "      <td>25</td>\n",
       "      <td>uniform</td>\n",
       "      <td>adam</td>\n",
       "      <td>0.651042</td>\n",
       "      <td>0.024774</td>\n",
       "    </tr>\n",
       "    <tr>\n",
       "      <th>35</th>\n",
       "      <td>64</td>\n",
       "      <td>25</td>\n",
       "      <td>uniform</td>\n",
       "      <td>sgd</td>\n",
       "      <td>0.651042</td>\n",
       "      <td>0.024774</td>\n",
       "    </tr>\n",
       "  </tbody>\n",
       "</table>\n",
       "</div>"
      ],
      "text/plain": [
       "    batch_size  epochs            init optimizer      Mean  Std. Dev\n",
       "0            8       5  glorot_uniform   rmsprop  0.656250  0.027805\n",
       "1            8       5  glorot_uniform      adam  0.651042  0.024774\n",
       "2            8       5  glorot_uniform       sgd  0.657552  0.028587\n",
       "3            8       5          normal   rmsprop  0.651042  0.024774\n",
       "4            8       5          normal      adam  0.651042  0.024774\n",
       "5            8       5          normal       sgd  0.651042  0.024774\n",
       "6            8       5         uniform   rmsprop  0.651042  0.024774\n",
       "7            8       5         uniform      adam  0.651042  0.024774\n",
       "8            8       5         uniform       sgd  0.651042  0.024774\n",
       "9            8      25  glorot_uniform   rmsprop  0.684896  0.043303\n",
       "10           8      25  glorot_uniform      adam  0.752604  0.041134\n",
       "11           8      25  glorot_uniform       sgd  0.666667  0.056727\n",
       "12           8      25          normal   rmsprop  0.710938  0.047628\n",
       "13           8      25          normal      adam  0.683594  0.061598\n",
       "14           8      25          normal       sgd  0.651042  0.024774\n",
       "15           8      25         uniform   rmsprop  0.674479  0.053591\n",
       "16           8      25         uniform      adam  0.695312  0.071032\n",
       "17           8      25         uniform       sgd  0.651042  0.024774\n",
       "18          64       5  glorot_uniform   rmsprop  0.657552  0.029635\n",
       "19          64       5  glorot_uniform      adam  0.552083  0.131362\n",
       "20          64       5  glorot_uniform       sgd  0.649740  0.023073\n",
       "21          64       5          normal   rmsprop  0.651042  0.024774\n",
       "22          64       5          normal      adam  0.651042  0.024774\n",
       "23          64       5          normal       sgd  0.651042  0.024774\n",
       "24          64       5         uniform   rmsprop  0.651042  0.024774\n",
       "25          64       5         uniform      adam  0.651042  0.024774\n",
       "26          64       5         uniform       sgd  0.651042  0.024774\n",
       "27          64      25  glorot_uniform   rmsprop  0.652344  0.025315\n",
       "28          64      25  glorot_uniform      adam  0.654948  0.028940\n",
       "29          64      25  glorot_uniform       sgd  0.651042  0.024774\n",
       "30          64      25          normal   rmsprop  0.651042  0.024774\n",
       "31          64      25          normal      adam  0.651042  0.024774\n",
       "32          64      25          normal       sgd  0.651042  0.024774\n",
       "33          64      25         uniform   rmsprop  0.651042  0.024774\n",
       "34          64      25         uniform      adam  0.651042  0.024774\n",
       "35          64      25         uniform       sgd  0.651042  0.024774"
      ]
     },
     "execution_count": 28,
     "metadata": {},
     "output_type": "execute_result"
    }
   ],
   "source": [
    "d"
   ]
  }
 ],
 "metadata": {
  "kernelspec": {
   "display_name": "Python 3",
   "language": "python",
   "name": "python3"
  },
  "language_info": {
   "codemirror_mode": {
    "name": "ipython",
    "version": 3
   },
   "file_extension": ".py",
   "mimetype": "text/x-python",
   "name": "python",
   "nbconvert_exporter": "python",
   "pygments_lexer": "ipython3",
   "version": "3.7.0"
  }
 },
 "nbformat": 4,
 "nbformat_minor": 4
}
