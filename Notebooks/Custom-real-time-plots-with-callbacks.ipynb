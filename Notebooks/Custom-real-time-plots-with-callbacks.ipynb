{
 "cells": [
  {
   "cell_type": "markdown",
   "metadata": {},
   "source": [
    "# Custom Real-time Plots in Deep Learning\n",
    "### Dr. Tirthajyoti Sarkar, Fremont, CA 94536 ([LinkedIn](https://www.linkedin.com/in/tirthajyoti-sarkar-2127aa7/), [Github](https://tirthajyoti.github.io))\n",
    "\n",
    "For more tutorial-style notebooks on deep learning, **[here is my Github repo](https://github.com/tirthajyoti/Deep-learning-with-Python)**.\n",
    "\n",
    "For more tutorial-style notebooks on general machine learning, **[here is my Github repo](https://github.com/tirthajyoti/Machine-Learning-with-Python)**.\n",
    "\n",
    "---\n",
    "\n",
    "## What do we mean by real-time plots?\n",
    "\n",
    "Training a complex deep learning model with a large dataset can be time-consuming. As the epochs go by, reams of numbers flash on your screen. Your eyes (and the brain) get tired. \n",
    "\n",
    "Where is that exciting accuracy plot constantly updating you about the progress? How do you know if the model is learning something useful? And, just how fast?\n",
    "\n",
    "A real-time visual update would be pretty great, won't it?\n",
    "\n",
    "Let's see how to do that with Keras/TensorFlow..."
   ]
  },
  {
   "cell_type": "markdown",
   "metadata": {},
   "source": [
    "## Imports"
   ]
  },
  {
   "cell_type": "code",
   "execution_count": null,
   "metadata": {},
   "outputs": [],
   "source": [
    "%matplotlib inline\n",
    "import matplotlib.pyplot as plt\n",
    "from IPython.display import clear_output\n",
    "import tensorflow as tf\n",
    "from tensorflow.keras.models import Sequential\n",
    "from tensorflow.keras.layers import Dense\n",
    "from sklearn.preprocessing import minmax_scale\n",
    "from sklearn.metrics import confusion_matrix, classification_report\n",
    "from sklearn.model_selection import train_test_split\n",
    "from sklearn.preprocessing import MinMaxScaler\n",
    "from sklearn.datasets import make_classification\n",
    "import numpy as np\n",
    "import seaborn as sns\n",
    "import matplotlib as mpl\n",
    "mpl.rcParams['figure.dpi']=100"
   ]
  },
  {
   "cell_type": "markdown",
   "metadata": {},
   "source": [
    "## Functions for building, compiling, and training models"
   ]
  },
  {
   "cell_type": "code",
   "execution_count": 2,
   "metadata": {},
   "outputs": [],
   "source": [
    "def build_classification_model(\n",
    "    num_layers=1,\n",
    "    architecture=[32],\n",
    "    act_func=\"relu\",\n",
    "    input_shape=(28, 28),\n",
    "    dropout = 0.1,\n",
    "    output_bias = None,\n",
    "    output_class=10):\n",
    "    \"\"\"\n",
    "  Builds a densely connected neural network model from user input\n",
    "  \n",
    "  Arguments\n",
    "          num_layers: Number of hidden layers\n",
    "          architecture: Architecture of the hidden layers (densely connected)\n",
    "          act_func: Activation function. Could be 'relu', 'sigmoid', or 'tanh'.\n",
    "          input_shape: Dimension of the input vector\n",
    "          output_class: Number of classes in the output vector\n",
    "  Returns\n",
    "          A neural net (Keras) model for classification\n",
    "    \"\"\"\n",
    "    layers = [tf.keras.layers.Flatten(input_shape=input_shape)]\n",
    "    if act_func == \"relu\":\n",
    "        activation = tf.nn.relu\n",
    "    elif act_func == \"sigmoid\":\n",
    "        activation = tf.nn.sigmoid\n",
    "    elif act_func == \"tanh\":\n",
    "        activation = tf.nn.tanh\n",
    "\n",
    "    if output_bias is not None:\n",
    "        output_bias = tf.keras.initializers.Constant(output_bias)\n",
    "\n",
    "    for i in range(num_layers):\n",
    "        layers.append(tf.keras.layers.Dense(architecture[i], activation=tf.nn.relu))\n",
    "        layers.append(tf.keras.layers.Dropout(dropout))\n",
    "    layers.append(tf.keras.layers.Dense(output_class, activation=tf.nn.sigmoid))\n",
    "\n",
    "    model = tf.keras.models.Sequential(layers)\n",
    "    return model"
   ]
  },
  {
   "cell_type": "code",
   "execution_count": 3,
   "metadata": {},
   "outputs": [],
   "source": [
    "def compile_train_model(\n",
    "    model,\n",
    "    x_train,\n",
    "    y_train,\n",
    "    callbacks=None,\n",
    "    learning_rate=0.001,\n",
    "    metrics = None,\n",
    "    class_weight = None,\n",
    "    batch_size=1,\n",
    "    epochs=10,\n",
    "    verbose=0,\n",
    "):\n",
    "    \"\"\"\n",
    "  Compiles and trains a given Keras model with the given data. \n",
    "  Assumes Adam optimizer for this implementation.\n",
    "  Assumes categorical cross-entropy loss.\n",
    "  \n",
    "  Arguments\n",
    "          learning_rate: Learning rate for the optimizer Adam\n",
    "          batch_size: Batch size for the mini-batch optimization\n",
    "          epochs: Number of epochs to train\n",
    "          verbose: Verbosity of the training process\n",
    "  \n",
    "  Returns\n",
    "  A copy of the model\n",
    "  \"\"\"\n",
    "\n",
    "    model_copy = model\n",
    "    model_copy.compile(\n",
    "        optimizer=tf.keras.optimizers.Adam(lr=learning_rate),\n",
    "        loss=tf.keras.losses.BinaryCrossentropy(),\n",
    "        metrics=metrics,\n",
    "    )\n",
    "\n",
    "    if callbacks != None:\n",
    "        model_copy.fit(\n",
    "            x_train,\n",
    "            y_train,\n",
    "            epochs=epochs,\n",
    "            batch_size=batch_size,\n",
    "            callbacks=callbacks,\n",
    "            class_weight=class_weight,\n",
    "            verbose=verbose,\n",
    "        )\n",
    "    else:\n",
    "        model_copy.fit(\n",
    "            x_train, y_train, \n",
    "            epochs=epochs, \n",
    "            batch_size=batch_size,\n",
    "            class_weight=class_weight,\n",
    "            verbose=verbose\n",
    "        )\n",
    "    return model_copy"
   ]
  },
  {
   "cell_type": "markdown",
   "metadata": {},
   "source": [
    "## Custom callback class for plotting real-time updates"
   ]
  },
  {
   "cell_type": "code",
   "execution_count": 4,
   "metadata": {},
   "outputs": [],
   "source": [
    "class TrainingPlot(tf.keras.callbacks.Callback):\n",
    "    \n",
    "    # This function is called when the training begins\n",
    "    def on_train_begin(self, logs={}):\n",
    "        # Initialize the lists for holding the logs, losses and metrics\n",
    "        self.losses = []\n",
    "        self.acc = []\n",
    "        self.f1score = []\n",
    "        self.precision = []\n",
    "        self.recall = []\n",
    "        self.logs = []\n",
    "    \n",
    "    # This function is called at the end of each epoch\n",
    "    def on_epoch_end(self, epoch, logs={}):\n",
    "        \"\"\"\n",
    "        Calculates and plots Precision, Recall, F1 score\n",
    "        \"\"\"\n",
    "        # Extract from the log\n",
    "        tp = logs.get('tp')\n",
    "        fp = logs.get('fp')\n",
    "        fn = logs.get('fn')\n",
    "        loss = logs.get('loss')\n",
    "        \n",
    "        m = self.model\n",
    "        preds = m.predict(X_train)\n",
    "        \n",
    "        # Calculate\n",
    "        precision = tp/(tp+fp)\n",
    "        recall = tp/(tp+fn)\n",
    "        f1score = 2*(precision*recall)/(precision+recall)    \n",
    "        \n",
    "        # Append the logs, losses and accuracies to the lists\n",
    "        self.logs.append(logs)\n",
    "        self.losses.append(loss)\n",
    "        self.f1score.append(f1score)\n",
    "        self.precision.append(precision)\n",
    "        self.recall.append(recall)\n",
    "        \n",
    "        # Plots every 5th epoch\n",
    "        if epoch > 0 and epoch%5==0:\n",
    "            \n",
    "            # Clear the previous plot\n",
    "            clear_output(wait=True)\n",
    "            N = np.arange(0, len(self.losses))\n",
    "            \n",
    "            # You can chose the style of your preference\n",
    "            plt.style.use(\"seaborn\")\n",
    "            \n",
    "            # Plot train loss, train acc, val loss and val acc against epochs passed\n",
    "            plt.figure(figsize=(10,3))\n",
    "            plt.title(\"Distribution of prediction probabilities at epoch no. {}\".format(epoch), \n",
    "                      fontsize=16)\n",
    "            plt.hist(preds, bins=50,edgecolor='k')\n",
    "            \n",
    "            plt.figure(figsize=(10,3))\n",
    "            plt.title(\"Loss over epoch\")\n",
    "            plt.plot(N, self.losses)\n",
    "            fig, ax = plt.subplots(1,3, figsize=(12,4))\n",
    "            ax = ax.ravel()\n",
    "            ax[0].plot(N, self.precision, label = \"Precision\", c='red')\n",
    "            ax[1].plot(N, self.recall, label = \"Recall\", c='red')\n",
    "            ax[2].plot(N, self.f1score, label = \"F1 score\", c='red')\n",
    "            ax[0].set_title(\"Precision at Epoch No. {}\".format(epoch))\n",
    "            ax[1].set_title(\"Recall at Epoch No. {}\".format(epoch))\n",
    "            ax[2].set_title(\"F1-score at Epoch No. {}\".format(epoch))\n",
    "            ax[0].set_xlabel(\"Epoch #\")\n",
    "            ax[1].set_xlabel(\"Epoch #\")\n",
    "            ax[2].set_xlabel(\"Epoch #\")\n",
    "            ax[0].set_ylabel(\"Precision\")\n",
    "            ax[1].set_ylabel(\"Recall\")\n",
    "            ax[2].set_ylabel(\"F1 score\")\n",
    "            ax[0].set_ylim(0,1)\n",
    "            ax[1].set_ylim(0,1)\n",
    "            ax[2].set_ylim(0,1)\n",
    "            \n",
    "            plt.show()"
   ]
  },
  {
   "cell_type": "markdown",
   "metadata": {},
   "source": [
    "## A synthetic and imbalanced dataset"
   ]
  },
  {
   "cell_type": "code",
   "execution_count": 5,
   "metadata": {},
   "outputs": [],
   "source": [
    "n_features = 15\n",
    "n_informative = n_features"
   ]
  },
  {
   "cell_type": "code",
   "execution_count": 6,
   "metadata": {},
   "outputs": [],
   "source": [
    "d = make_classification(n_samples=10000,\n",
    "                        n_features=n_features,\n",
    "                        n_informative=n_informative,\n",
    "                        n_redundant=0,\n",
    "                        n_classes=2,\n",
    "                        weights=[0.9,0.1],\n",
    "                        flip_y=0.05,\n",
    "                        class_sep=0.7)"
   ]
  },
  {
   "cell_type": "code",
   "execution_count": 7,
   "metadata": {},
   "outputs": [],
   "source": [
    "features, target = d"
   ]
  },
  {
   "cell_type": "markdown",
   "metadata": {},
   "source": [
    "## Training and testing sets and pre-processing"
   ]
  },
  {
   "cell_type": "code",
   "execution_count": 8,
   "metadata": {},
   "outputs": [],
   "source": [
    "neg, pos = np.bincount(target)"
   ]
  },
  {
   "cell_type": "code",
   "execution_count": 9,
   "metadata": {},
   "outputs": [
    {
     "data": {
      "text/plain": [
       "array([-1.99622351])"
      ]
     },
     "execution_count": 9,
     "metadata": {},
     "output_type": "execute_result"
    }
   ],
   "source": [
    "initial_bias = np.log([pos/neg])\n",
    "initial_bias"
   ]
  },
  {
   "cell_type": "code",
   "execution_count": 10,
   "metadata": {},
   "outputs": [],
   "source": [
    "X_train, X_test, y_train, y_test = train_test_split(features, target, test_size=0.8, random_state=42)"
   ]
  },
  {
   "cell_type": "code",
   "execution_count": 11,
   "metadata": {},
   "outputs": [],
   "source": [
    "scaler = MinMaxScaler()\n",
    "X_train = scaler.fit_transform(X_train)\n",
    "X_test = scaler.fit_transform(X_test)"
   ]
  },
  {
   "cell_type": "markdown",
   "metadata": {},
   "source": [
    "## Metrics and (unequal) weights\n",
    "We are using unequal weights to improve model prediction for the imbalanced dataset."
   ]
  },
  {
   "cell_type": "code",
   "execution_count": 12,
   "metadata": {},
   "outputs": [],
   "source": [
    "input_shape=(X_train.shape[1],)"
   ]
  },
  {
   "cell_type": "code",
   "execution_count": 13,
   "metadata": {},
   "outputs": [],
   "source": [
    "metrics = [\n",
    "    tf.keras.metrics.TruePositives(name=\"tp\"),\n",
    "    tf.keras.metrics.TrueNegatives(name=\"tn\"),\n",
    "    tf.keras.metrics.FalseNegatives(name=\"fn\"),\n",
    "    tf.keras.metrics.FalsePositives(name=\"fp\"),\n",
    "]"
   ]
  },
  {
   "cell_type": "code",
   "execution_count": 14,
   "metadata": {},
   "outputs": [],
   "source": [
    "counts = np.bincount(y_train)\n",
    "\n",
    "weight_for_0 = 1.0 / counts[0]\n",
    "weight_for_1 = 1.0 / counts[1]\n",
    "\n",
    "class_weight = {0: weight_for_0, 1: weight_for_1}"
   ]
  },
  {
   "cell_type": "code",
   "execution_count": 16,
   "metadata": {},
   "outputs": [],
   "source": [
    "plot_metrics = TrainingPlot()"
   ]
  },
  {
   "cell_type": "markdown",
   "metadata": {},
   "source": [
    "## Model definition and training"
   ]
  },
  {
   "cell_type": "code",
   "execution_count": 17,
   "metadata": {},
   "outputs": [],
   "source": [
    "m = build_classification_model(num_layers=2,\n",
    "                               architecture=[64,64],\n",
    "                               input_shape=input_shape,\n",
    "                               output_bias= initial_bias,\n",
    "                               output_class=1)"
   ]
  },
  {
   "cell_type": "code",
   "execution_count": 19,
   "metadata": {},
   "outputs": [
    {
     "name": "stdout",
     "output_type": "stream",
     "text": [
      "Model: \"sequential\"\n",
      "_________________________________________________________________\n",
      "Layer (type)                 Output Shape              Param #   \n",
      "=================================================================\n",
      "flatten (Flatten)            (None, 15)                0         \n",
      "_________________________________________________________________\n",
      "dense (Dense)                (None, 64)                1024      \n",
      "_________________________________________________________________\n",
      "dropout (Dropout)            (None, 64)                0         \n",
      "_________________________________________________________________\n",
      "dense_1 (Dense)              (None, 64)                4160      \n",
      "_________________________________________________________________\n",
      "dropout_1 (Dropout)          (None, 64)                0         \n",
      "_________________________________________________________________\n",
      "dense_2 (Dense)              (None, 1)                 65        \n",
      "=================================================================\n",
      "Total params: 5,249\n",
      "Trainable params: 5,249\n",
      "Non-trainable params: 0\n",
      "_________________________________________________________________\n"
     ]
    }
   ],
   "source": [
    "m.summary()"
   ]
  },
  {
   "cell_type": "code",
   "execution_count": 18,
   "metadata": {},
   "outputs": [
    {
     "data": {
      "image/png": "[encoded data removed]",
      "text/plain": [
       "<Figure size 720x216 with 1 Axes>"
      ]
     },
     "metadata": {},
     "output_type": "display_data"
    },
    {
     "data": {
      "image/png": "[encoded data removed]",
      "text/plain": [
       "<Figure size 720x216 with 1 Axes>"
      ]
     },
     "metadata": {},
     "output_type": "display_data"
    },
    {
     "data": {
      "image/png": "[encoded data removed]",
      "text/plain": [
       "<Figure size 864x288 with 3 Axes>"
      ]
     },
     "metadata": {},
     "output_type": "display_data"
    }
   ],
   "source": [
    "m = compile_train_model(model=m, \n",
    "                        x_train=X_train, \n",
    "                        y_train=y_train, \n",
    "                        metrics=metrics,\n",
    "                        class_weight=class_weight,\n",
    "                        callbacks = [plot_metrics],\n",
    "                        batch_size=32,\n",
    "                        learning_rate=1e-3,\n",
    "                        epochs=100,\n",
    "                        verbose=0)"
   ]
  }
 ],
 "metadata": {
  "kernelspec": {
   "display_name": "Python 3",
   "language": "python",
   "name": "python3"
  },
  "language_info": {
   "codemirror_mode": {
    "name": "ipython",
    "version": 3
   },
   "file_extension": ".py",
   "mimetype": "text/x-python",
   "name": "python",
   "nbconvert_exporter": "python",
   "pygments_lexer": "ipython3",
   "version": "3.7.0"
  }
 },
 "nbformat": 4,
 "nbformat_minor": 4
}
